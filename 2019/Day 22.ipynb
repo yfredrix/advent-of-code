{
 "cells": [
  {
   "cell_type": "code",
   "execution_count": 3,
   "metadata": {},
   "outputs": [],
   "source": [
    "with open(\"./data/Day 22/input.txt\") as f:\n",
    "    data = f.read().splitlines()"
   ]
  },
  {
   "cell_type": "code",
   "execution_count": 4,
   "metadata": {},
   "outputs": [
    {
     "name": "stdout",
     "output_type": "stream",
     "text": [
      "Position of card 2019: 4824\n"
     ]
    }
   ],
   "source": [
    "def deal_into_new_stack(deck):\n",
    "    return deck[::-1]\n",
    "\n",
    "def cut(deck, n):\n",
    "    return deck[n:] + deck[:n]\n",
    "\n",
    "def deal_with_increment(deck, increment):\n",
    "    size = len(deck)\n",
    "    new_deck = [None] * size\n",
    "    position = 0\n",
    "    for card in deck:\n",
    "        new_deck[position] = card\n",
    "        position = (position + increment) % size\n",
    "    return new_deck\n",
    "\n",
    "def parse_and_apply_techniques(deck, techniques):\n",
    "    for technique in techniques:\n",
    "        if technique.startswith(\"deal into new stack\"):\n",
    "            deck = deal_into_new_stack(deck)\n",
    "        elif technique.startswith(\"cut\"):\n",
    "            n = int(technique.split(\" \")[-1])\n",
    "            deck = cut(deck, n)\n",
    "        elif technique.startswith(\"deal with increment\"):\n",
    "            increment = int(technique.split(\" \")[-1])\n",
    "            deck = deal_with_increment(deck, increment)\n",
    "    return deck\n",
    "\n",
    "def find_position_of_card_2019(decks_size, techniques):\n",
    "    deck = list(range(decks_size))\n",
    "    shuffled_deck = parse_and_apply_techniques(deck, techniques)\n",
    "    return shuffled_deck.index(2019)\n",
    "\n",
    "# Input shuffling techniques\n",
    "techniques_input = [\n",
    "    \"deal with increment 7\",\n",
    "    \"deal into new stack\",\n",
    "    \"deal into new stack\",\n",
    "    \"cut 6\",\n",
    "    \"deal with increment 7\",\n",
    "    \"deal into new stack\",\n",
    "    \"deal with increment 7\",\n",
    "    \"deal with increment 9\",\n",
    "    \"cut -2\",\n",
    "    \"deal into new stack\",\n",
    "    \"cut -2\",\n",
    "    \"deal with increment 7\",\n",
    "    \"cut 8\",\n",
    "    \"cut -4\",\n",
    "    \"deal with increment 7\",\n",
    "    \"cut 3\",\n",
    "    \"deal with increment 9\",\n",
    "    \"deal with increment 3\",\n",
    "    \"cut -1\"\n",
    "    # Add the full input here\n",
    "]\n",
    "\n",
    "# Cards count\n",
    "deck_size = 10007\n",
    "\n",
    "# Find position of card 2019\n",
    "position_of_card_2019 = find_position_of_card_2019(deck_size, techniques_input)\n",
    "print(\"Position of card 2019:\", position_of_card_2019)"
   ]
  },
  {
   "cell_type": "code",
   "execution_count": 5,
   "metadata": {},
   "outputs": [
    {
     "name": "stdout",
     "output_type": "stream",
     "text": [
      "Position of card 2019: 2939\n"
     ]
    }
   ],
   "source": [
    "# Find position of card 2019\n",
    "position_of_card_2019 = find_position_of_card_2019(deck_size, data)\n",
    "print(\"Position of card 2019:\", position_of_card_2019)"
   ]
  },
  {
   "cell_type": "code",
   "execution_count": 6,
   "metadata": {},
   "outputs": [
    {
     "name": "stdout",
     "output_type": "stream",
     "text": [
      "Card at position 2020: 100992066695309\n"
     ]
    }
   ],
   "source": [
    "def mod_inv(a, m):\n",
    "    \"\"\"Calculate the modular inverse of a under modulus m, using Extended Euclidean Algorithm.\"\"\"\n",
    "    return pow(a, m - 2, m)\n",
    "\n",
    "\n",
    "def apply_techniques_reverse(techniques, deck_size, position):\n",
    "    increment_mul = 1\n",
    "    offset_diff = 0\n",
    "\n",
    "    for technique in techniques:\n",
    "        if technique == \"deal into new stack\":\n",
    "            increment_mul *= -1\n",
    "            offset_diff += increment_mul\n",
    "        elif technique.startswith(\"cut\"):\n",
    "            n = int(technique.split(\" \")[-1])\n",
    "            offset_diff += n * increment_mul\n",
    "        elif technique.startswith(\"deal with increment\"):\n",
    "            n = int(technique.split(\" \")[-1])\n",
    "            increment_mul *= mod_inv(n, deck_size)\n",
    "\n",
    "    increment_mul %= deck_size\n",
    "    offset_diff %= deck_size\n",
    "\n",
    "    return increment_mul, offset_diff\n",
    "\n",
    "\n",
    "def find_card_at_position(techniques, deck_size, num_shuffles, position):\n",
    "    increment_mul, offset_diff = apply_techniques_reverse(\n",
    "        techniques, deck_size, position\n",
    "    )\n",
    "\n",
    "    increment = pow(increment_mul, num_shuffles, deck_size)\n",
    "    offset = (\n",
    "        offset_diff\n",
    "        * (1 - increment)\n",
    "        * mod_inv((1 - increment_mul) % deck_size, deck_size)\n",
    "    )\n",
    "    offset %= deck_size\n",
    "\n",
    "    return (offset + increment * position) % deck_size\n",
    "\n",
    "\n",
    "# Input shuffling techniques\n",
    "techniques_input = [\n",
    "    \"deal with increment 7\",\n",
    "    \"deal into new stack\",\n",
    "    \"deal into new stack\",\n",
    "    \"cut 6\",\n",
    "    \"deal with increment 7\",\n",
    "    \"deal into new stack\",\n",
    "    \"deal with increment 7\",\n",
    "    \"deal with increment 9\",\n",
    "    \"cut -2\",\n",
    "    \"deal into new stack\",\n",
    "    \"cut -2\",\n",
    "    \"deal with increment 7\",\n",
    "    \"cut 8\",\n",
    "    \"cut -4\",\n",
    "    \"deal with increment 7\",\n",
    "    \"cut 3\",\n",
    "    \"deal with increment 9\",\n",
    "    \"deal with increment 3\",\n",
    "    \"cut -1\",\n",
    "    # Add the full input here\n",
    "]\n",
    "\n",
    "# Parameters\n",
    "deck_size = 119315717514047\n",
    "num_shuffles = 101741582076661\n",
    "position = 2020\n",
    "\n",
    "# Find the card that ends up in position 2020\n",
    "card_at_position = find_card_at_position(\n",
    "    techniques_input, deck_size, num_shuffles, position\n",
    ")\n",
    "print(\"Card at position 2020:\", card_at_position)"
   ]
  },
  {
   "cell_type": "code",
   "execution_count": 8,
   "metadata": {},
   "outputs": [
    {
     "name": "stdout",
     "output_type": "stream",
     "text": [
      "Position of card 2020: 45347150615590\n"
     ]
    }
   ],
   "source": [
    "# Find position of card 2019\n",
    "position_of_card_2019 = find_card_at_position(data, deck_size, num_shuffles, position)\n",
    "print(\"Position of card 2020:\", position_of_card_2019)"
   ]
  },
  {
   "cell_type": "code",
   "execution_count": null,
   "metadata": {},
   "outputs": [],
   "source": []
  }
 ],
 "metadata": {
  "kernelspec": {
   "display_name": ".venv",
   "language": "python",
   "name": "python3"
  },
  "language_info": {
   "codemirror_mode": {
    "name": "ipython",
    "version": 3
   },
   "file_extension": ".py",
   "mimetype": "text/x-python",
   "name": "python",
   "nbconvert_exporter": "python",
   "pygments_lexer": "ipython3",
   "version": "3.12.1"
  }
 },
 "nbformat": 4,
 "nbformat_minor": 2
}
