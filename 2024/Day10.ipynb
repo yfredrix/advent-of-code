{
 "cells": [
  {
   "cell_type": "code",
   "execution_count": 1,
   "metadata": {},
   "outputs": [
    {
     "name": "stdout",
     "output_type": "stream",
     "text": [
      "The sum of the scores of all trailheads is: 36\n"
     ]
    }
   ],
   "source": [
    "def parse_map(map_str):\n",
    "    return [list(map(int, line.strip())) for line in map_str.splitlines()]\n",
    "\n",
    "def find_trailheads(map_data):\n",
    "    trailheads = []\n",
    "    for r, row in enumerate(map_data):\n",
    "        for c, height in enumerate(row):\n",
    "            if height == 0:\n",
    "                trailheads.append((r, c))\n",
    "    return trailheads\n",
    "\n",
    "def is_valid_move(map_data, r, c, current_height):\n",
    "    return 0 <= r < len(map_data) and 0 <= c < len(map_data[0]) and map_data[r][c] == current_height + 1\n",
    "\n",
    "def bfs(map_data, trailhead):\n",
    "    from collections import deque\n",
    "    queue = deque([(trailhead[0], trailhead[1], 0)])  # (row, col, current height)\n",
    "    reached_nines = set()\n",
    "\n",
    "    while queue:\n",
    "        r, c, cur_height = queue.popleft()\n",
    "\n",
    "        # If we reach a height of 9, count this position\n",
    "        if cur_height == 9:\n",
    "            reached_nines.add((r, c))\n",
    "            continue\n",
    "\n",
    "        # Attempt to move in each of the four directions\n",
    "        for dr, dc in [(1, 0), (-1, 0), (0, 1), (0, -1)]:\n",
    "            nr, nc = r + dr, c + dc\n",
    "            if is_valid_move(map_data, nr, nc, cur_height):\n",
    "                queue.append((nr, nc, cur_height + 1))\n",
    "\n",
    "    return len(reached_nines)\n",
    "\n",
    "def calculate_trailhead_scores(map_data):\n",
    "    scores = 0\n",
    "    trailheads = find_trailheads(map_data)\n",
    "\n",
    "    for trailhead in trailheads:\n",
    "        score = bfs(map_data, trailhead)\n",
    "        scores += score\n",
    "\n",
    "    return scores\n",
    "\n",
    "# Example topographic map input\n",
    "map_str = \"\"\"89010123\n",
    "78121874\n",
    "87430965\n",
    "96549874\n",
    "45678903\n",
    "32019012\n",
    "01329801\n",
    "10456732\"\"\"\n",
    "\n",
    "# Parse map and calculate scores\n",
    "map_data = parse_map(map_str)\n",
    "total_score = calculate_trailhead_scores(map_data)\n",
    "print(f\"The sum of the scores of all trailheads is: {total_score}\")"
   ]
  },
  {
   "cell_type": "code",
   "execution_count": 5,
   "metadata": {},
   "outputs": [],
   "source": [
    "with open(\"./data/Day 10/input.txt\") as f:\n",
    "    map_str = f.read()"
   ]
  },
  {
   "cell_type": "code",
   "execution_count": 3,
   "metadata": {},
   "outputs": [
    {
     "name": "stdout",
     "output_type": "stream",
     "text": [
      "The sum of the scores of all trailheads is: 822\n"
     ]
    }
   ],
   "source": [
    "map_data = parse_map(map_str)\n",
    "total_score = calculate_trailhead_scores(map_data)\n",
    "print(f\"The sum of the scores of all trailheads is: {total_score}\")"
   ]
  },
  {
   "cell_type": "code",
   "execution_count": 4,
   "metadata": {},
   "outputs": [
    {
     "name": "stdout",
     "output_type": "stream",
     "text": [
      "The sum of the ratings of all trailheads is: 81\n"
     ]
    }
   ],
   "source": [
    "def parse_map(map_str):\n",
    "    return [list(map(int, line.strip())) for line in map_str.splitlines()]\n",
    "\n",
    "\n",
    "def find_trailheads(map_data):\n",
    "    trailheads = []\n",
    "    for r, row in enumerate(map_data):\n",
    "        for c, height in enumerate(row):\n",
    "            if height == 0:\n",
    "                trailheads.append((r, c))\n",
    "    return trailheads\n",
    "\n",
    "\n",
    "def calculate_trailhead_ratings(map_data):\n",
    "    rows, cols = len(map_data), len(map_data[0])\n",
    "    ratings = 0\n",
    "    trailheads = find_trailheads(map_data)\n",
    "\n",
    "    def dfs(r, c, current_height, memo):\n",
    "        # If current position is a 9, return 1 as we found a path to a 9\n",
    "        if current_height == 9:\n",
    "            return 1\n",
    "        if (r, c, current_height) in memo:\n",
    "            return memo[(r, c, current_height)]\n",
    "\n",
    "        trail_count = 0\n",
    "        # Attempt to move in each of the four directions\n",
    "        for dr, dc in [(1, 0), (-1, 0), (0, 1), (0, -1)]:\n",
    "            nr, nc = r + dr, c + dc\n",
    "            if (\n",
    "                0 <= nr < rows\n",
    "                and 0 <= nc < cols\n",
    "                and map_data[nr][nc] == current_height + 1\n",
    "            ):\n",
    "                trail_count += dfs(nr, nc, current_height + 1, memo)\n",
    "\n",
    "        memo[(r, c, current_height)] = trail_count\n",
    "        return trail_count\n",
    "\n",
    "    for trailhead in trailheads:\n",
    "        r, c = trailhead\n",
    "        memo = {}\n",
    "        trailhead_rating = dfs(r, c, 0, memo)\n",
    "        ratings += trailhead_rating\n",
    "\n",
    "    return ratings\n",
    "\n",
    "\n",
    "# Example topographic map input\n",
    "map_str = \"\"\"89010123\n",
    "78121874\n",
    "87430965\n",
    "96549874\n",
    "45678903\n",
    "32019012\n",
    "01329801\n",
    "10456732\"\"\"\n",
    "\n",
    "# Parse map and calculate ratings\n",
    "map_data = parse_map(map_str)\n",
    "total_ratings = calculate_trailhead_ratings(map_data)\n",
    "print(f\"The sum of the ratings of all trailheads is: {total_ratings}\")"
   ]
  },
  {
   "cell_type": "code",
   "execution_count": 7,
   "metadata": {},
   "outputs": [
    {
     "name": "stdout",
     "output_type": "stream",
     "text": [
      "The sum of the ratings of all trailheads is: 1801\n"
     ]
    }
   ],
   "source": [
    "map_data = parse_map(map_str)\n",
    "total_ratings = calculate_trailhead_ratings(map_data)\n",
    "print(f\"The sum of the ratings of all trailheads is: {total_ratings}\")"
   ]
  },
  {
   "cell_type": "markdown",
   "metadata": {},
   "source": []
  },
  {
   "cell_type": "code",
   "execution_count": null,
   "metadata": {},
   "outputs": [],
   "source": []
  }
 ],
 "metadata": {
  "kernelspec": {
   "display_name": ".venv",
   "language": "python",
   "name": "python3"
  },
  "language_info": {
   "codemirror_mode": {
    "name": "ipython",
    "version": 3
   },
   "file_extension": ".py",
   "mimetype": "text/x-python",
   "name": "python",
   "nbconvert_exporter": "python",
   "pygments_lexer": "ipython3",
   "version": "3.12.1"
  }
 },
 "nbformat": 4,
 "nbformat_minor": 2
}
