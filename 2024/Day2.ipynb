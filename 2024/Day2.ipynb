{
 "cells": [
  {
   "cell_type": "code",
   "execution_count": 2,
   "metadata": {},
   "outputs": [],
   "source": [
    "example = \"\"\"7 6 4 2 1\n",
    "1 2 7 8 9\n",
    "9 7 6 2 1\n",
    "1 3 2 4 5\n",
    "8 6 4 4 1\n",
    "1 3 6 7 9\"\"\""
   ]
  },
  {
   "cell_type": "code",
   "execution_count": 3,
   "metadata": {},
   "outputs": [],
   "source": [
    "import numpy as np\n",
    "\n",
    "def data_to_reports(data):\n",
    "    rows = data.strip().split('\\n')\n",
    "    arrays = [np.array(list(map(int, row.split()))) for row in rows]\n",
    "    return arrays\n"
   ]
  },
  {
   "cell_type": "code",
   "execution_count": 4,
   "metadata": {},
   "outputs": [],
   "source": [
    "def correct_report(report: np.array):\n",
    "    diff = np.diff(report)\n",
    "    return ((np.all(diff > 0) or np.all(diff < 0)) and np.all(np.abs(diff) <= 3))"
   ]
  },
  {
   "cell_type": "code",
   "execution_count": 5,
   "metadata": {},
   "outputs": [
    {
     "data": {
      "text/plain": [
       "2"
      ]
     },
     "execution_count": 5,
     "metadata": {},
     "output_type": "execute_result"
    }
   ],
   "source": [
    "example_reports = data_to_reports(example)\n",
    "example_status_list = [correct_report(report) for report in example_reports]\n",
    "int(sum(example_status_list))"
   ]
  },
  {
   "cell_type": "code",
   "execution_count": 6,
   "metadata": {},
   "outputs": [
    {
     "data": {
      "text/plain": [
       "463"
      ]
     },
     "execution_count": 6,
     "metadata": {},
     "output_type": "execute_result"
    }
   ],
   "source": [
    "\n",
    "with open(\"./data/Day 2/input.txt\", 'r') as file:\n",
    "    data = file.read()\n",
    "\n",
    "reports = data_to_reports(data)     \n",
    "status_list = [correct_report(report) for report in reports]\n",
    "int(sum(status_list))  "
   ]
  },
  {
   "cell_type": "markdown",
   "metadata": {},
   "source": [
    "## part 2"
   ]
  },
  {
   "cell_type": "code",
   "execution_count": 29,
   "metadata": {},
   "outputs": [],
   "source": [
    "def check_report_false_points(report):\n",
    "    diff = np.diff(report)\n",
    "    numpy_locs = np.where(np.abs(diff) >= 4)\n",
    "    issue_locs = []\n",
    "    if numpy_locs[0].shape[0] > 0:\n",
    "        for i in numpy_locs[0]:\n",
    "            issue_locs.append(int(i))\n",
    "    for i, elem in enumerate(diff):\n",
    "        if i <= len(diff) - 2:\n",
    "            if elem > 0 and diff[i+1] < 0:\n",
    "                issue_locs.append(i+1)\n",
    "            if elem < 0 and diff[i+1] > 0:\n",
    "                issue_locs.append(i+1)\n",
    "            if elem == 0:\n",
    "                issue_locs.append(i+1)\n",
    "    return issue_locs\n",
    "\n",
    "def validate_report_with_issue(report, issue_locs):\n",
    "    if len(issue_locs) == 0:\n",
    "        return True\n",
    "    else:\n",
    "        status = []\n",
    "        for issue_loc in issue_locs:\n",
    "            for i in range(-1, 2):\n",
    "                copy_report = report.copy()\n",
    "                if issue_loc + i >= 0 and issue_loc + i <= len(copy_report) - 1:\n",
    "                    copy_report = np.delete(copy_report, issue_loc + i)\n",
    "                    status.append(correct_report(copy_report))\n",
    "        if any(status):\n",
    "            return True\n",
    "        else:\n",
    "            return False"
   ]
  },
  {
   "cell_type": "code",
   "execution_count": 30,
   "metadata": {},
   "outputs": [
    {
     "data": {
      "text/plain": [
       "4"
      ]
     },
     "execution_count": 30,
     "metadata": {},
     "output_type": "execute_result"
    }
   ],
   "source": [
    "example_reports = data_to_reports(example)\n",
    "safe = []\n",
    "for report in example_reports:\n",
    "    issue_locations = check_report_false_points(report)\n",
    "    safe.append(validate_report_with_issue(report, issue_locations))\n",
    "sum(safe)"
   ]
  },
  {
   "cell_type": "code",
   "execution_count": 32,
   "metadata": {},
   "outputs": [
    {
     "data": {
      "text/plain": [
       "514"
      ]
     },
     "execution_count": 32,
     "metadata": {},
     "output_type": "execute_result"
    }
   ],
   "source": [
    "reports = data_to_reports(data)\n",
    "safe = []\n",
    "for report in reports:\n",
    "    issue_locations = check_report_false_points(report)\n",
    "    status = validate_report_with_issue(report, issue_locations)\n",
    "    safe.append(status)\n",
    "sum(safe)"
   ]
  },
  {
   "cell_type": "markdown",
   "metadata": {},
   "source": [
    "## ChatNS"
   ]
  },
  {
   "cell_type": "code",
   "execution_count": 2,
   "metadata": {},
   "outputs": [
    {
     "name": "stdout",
     "output_type": "stream",
     "text": [
      "463\n"
     ]
    }
   ],
   "source": [
    "def is_safe(report):\n",
    "    # Parse the report into a list of integers.\n",
    "    levels = list(map(int, report.split()))\n",
    "    \n",
    "    # Determine if the sequence is strictly increasing or decreasing and with valid steps.\n",
    "    is_increasing = all(1 <= levels[i+1] - levels[i] <= 3 for i in range(len(levels) - 1))\n",
    "    is_decreasing = all(-3 <= levels[i+1] - levels[i] <= -1 for i in range(len(levels) - 1))\n",
    "    \n",
    "    # A report is safe if it is either entirely increasing or entirely decreasing.\n",
    "    return is_increasing or is_decreasing\n",
    "\n",
    "def count_safe_reports(data):\n",
    "    # Split the input data into separate reports.\n",
    "    reports = data.strip().split('\\n')\n",
    "    \n",
    "    # Count how many reports are safe.\n",
    "    safe_reports = sum(is_safe(report) for report in reports)\n",
    "    \n",
    "    return safe_reports\n",
    "\n",
    "# Example input\n",
    "data = \"\"\"7 6 4 2 1\n",
    "1 2 7 8 9\n",
    "9 7 6 2 1\n",
    "1 3 2 4 5\n",
    "8 6 4 4 1\n",
    "1 3 6 7 9\"\"\"\n",
    "with open(\"./data/Day 2/input.txt\", 'r') as file:\n",
    "    data = file.read()\n",
    "# Count the number of safe reports\n",
    "safe_count = count_safe_reports(data)\n",
    "print(safe_count) # Output should be 2 for the given example"
   ]
  },
  {
   "cell_type": "code",
   "execution_count": 4,
   "metadata": {},
   "outputs": [
    {
     "name": "stdout",
     "output_type": "stream",
     "text": [
      "514\n"
     ]
    }
   ],
   "source": [
    "def is_safe_without_removal(levels):\n",
    "    # Check if the levels are increasing or decreasing with the allowed differences.\n",
    "    is_increasing = all(1 <= levels[i+1] - levels[i] <= 3 for i in range(len(levels) - 1))\n",
    "    is_decreasing = all(-3 <= levels[i+1] - levels[i] <= -1 for i in range(len(levels) - 1))\n",
    "    return is_increasing or is_decreasing\n",
    "\n",
    "def is_safe_with_dampener(levels):\n",
    "    # Check if the report is already safe without removal.\n",
    "    if is_safe_without_removal(levels):\n",
    "        return True\n",
    "    \n",
    "    # Attempt to remove one level to see if it becomes safe.\n",
    "    for i in range(len(levels)):\n",
    "        modified_levels = levels[:i] + levels[i+1:]\n",
    "        if is_safe_without_removal(modified_levels):\n",
    "            return True\n",
    "    \n",
    "    return False\n",
    "\n",
    "def count_safe_reports(data):\n",
    "    # Split the input data into separate reports.\n",
    "    reports = data.strip().split('\\n')\n",
    "    \n",
    "    # Count how many reports are safe, with a one-level removal allowed.\n",
    "    safe_reports = 0\n",
    "    for report in reports:\n",
    "        levels = list(map(int, report.split()))\n",
    "        if is_safe_with_dampener(levels):\n",
    "            safe_reports += 1\n",
    "    \n",
    "    return safe_reports\n",
    "\n",
    "# Example input\n",
    "data = \"\"\"7 6 4 2 1\n",
    "1 2 7 8 9\n",
    "9 7 6 2 1\n",
    "1 3 2 4 5\n",
    "8 6 4 4 1\n",
    "1 3 6 7 9\"\"\"\n",
    "with open(\"./data/Day 2/input.txt\", 'r') as file:\n",
    "    data = file.read()\n",
    "# Count the number of safe reports with the Problem Dampener\n",
    "safe_count = count_safe_reports(data)\n",
    "print(safe_count) # With the Problem Dampener, the expected output should be 4"
   ]
  },
  {
   "cell_type": "code",
   "execution_count": null,
   "metadata": {},
   "outputs": [],
   "source": []
  }
 ],
 "metadata": {
  "kernelspec": {
   "display_name": ".venv",
   "language": "python",
   "name": "python3"
  },
  "language_info": {
   "codemirror_mode": {
    "name": "ipython",
    "version": 3
   },
   "file_extension": ".py",
   "mimetype": "text/x-python",
   "name": "python",
   "nbconvert_exporter": "python",
   "pygments_lexer": "ipython3",
   "version": "3.12.7"
  }
 },
 "nbformat": 4,
 "nbformat_minor": 2
}
