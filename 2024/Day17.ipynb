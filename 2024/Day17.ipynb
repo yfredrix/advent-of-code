{
 "cells": [
  {
   "cell_type": "code",
   "execution_count": 2,
   "metadata": {},
   "outputs": [
    {
     "name": "stdout",
     "output_type": "stream",
     "text": [
      "4,6,3,5,6,3,5,2,1,0\n"
     ]
    }
   ],
   "source": [
    "def run_program(register_a, register_b, register_c, program):\n",
    "    ip = 0  # Instruction Pointer\n",
    "    output_values = []\n",
    "\n",
    "    while ip < len(program):\n",
    "        opcode = program[ip]\n",
    "        operand = program[ip + 1]\n",
    "\n",
    "        if opcode == 0:  # adv\n",
    "            divisor = 2 ** (operand if operand <= 3 else [register_a, register_b, register_c][operand - 4])\n",
    "            register_a //= divisor\n",
    "\n",
    "        elif opcode == 1:  # bxl\n",
    "            register_b ^= operand\n",
    "\n",
    "        elif opcode == 2:  # bst\n",
    "            combo_value = operand if operand <= 3 else [register_a, register_b, register_c][operand - 4]\n",
    "            register_b = combo_value % 8\n",
    "\n",
    "        elif opcode == 3:  # jnz\n",
    "            if register_a != 0:\n",
    "                ip = operand\n",
    "                continue  # Change IP to new value, skip increment\n",
    "\n",
    "        elif opcode == 4:  # bxc\n",
    "            register_b ^= register_c\n",
    "\n",
    "        elif opcode == 5:  # out\n",
    "            combo_value = operand if operand <= 3 else [register_a, register_b, register_c][operand - 4]\n",
    "            output_values.append(combo_value % 8)\n",
    "\n",
    "        elif opcode == 6:  # bdv\n",
    "            divisor = 2 ** (operand if operand <= 3 else [register_a, register_b, register_c][operand - 4])\n",
    "            register_b = register_a // divisor\n",
    "\n",
    "        elif opcode == 7:  # cdv\n",
    "            divisor = 2 ** (operand if operand <= 3 else [register_a, register_b, register_c][operand - 4])\n",
    "            register_c = register_a // divisor\n",
    "\n",
    "        ip += 2  # Move to next instruction\n",
    "\n",
    "    return \",\".join(map(str, output_values))\n",
    "\n",
    "# Initialize given register values\n",
    "initial_a = 729\n",
    "initial_b = 0\n",
    "initial_c = 0\n",
    "\n",
    "# Given program instructions\n",
    "program_data = [0, 1, 5, 4, 3, 0]\n",
    "\n",
    "# Run the program and get the output\n",
    "output_result = run_program(initial_a, initial_b, initial_c, program_data)\n",
    "print(output_result)"
   ]
  },
  {
   "cell_type": "code",
   "execution_count": 3,
   "metadata": {},
   "outputs": [
    {
     "name": "stdout",
     "output_type": "stream",
     "text": [
      "7,1,3,4,1,2,6,7,1\n"
     ]
    }
   ],
   "source": [
    "initial_a = 46187030\n",
    "initial_b = 0\n",
    "initial_c = 0\n",
    "\n",
    "program_data = [2,4,1,5,7,5,0,3,4,0,1,6,5,5,3,0]\n",
    "\n",
    "output_result = run_program(initial_a, initial_b, initial_c, program_data)\n",
    "print(output_result)"
   ]
  },
  {
   "cell_type": "code",
   "execution_count": null,
   "metadata": {},
   "outputs": [],
   "source": []
  }
 ],
 "metadata": {
  "kernelspec": {
   "display_name": ".venv",
   "language": "python",
   "name": "python3"
  },
  "language_info": {
   "codemirror_mode": {
    "name": "ipython",
    "version": 3
   },
   "file_extension": ".py",
   "mimetype": "text/x-python",
   "name": "python",
   "nbconvert_exporter": "python",
   "pygments_lexer": "ipython3",
   "version": "3.12.8"
  }
 },
 "nbformat": 4,
 "nbformat_minor": 2
}
