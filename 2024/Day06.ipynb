{
 "cells": [
  {
   "cell_type": "code",
   "execution_count": 30,
   "metadata": {},
   "outputs": [],
   "source": [
    "with open(\"./data/Day 6/input.txt\", \"r\") as file:\n",
    "    map_input = file.read().splitlines()"
   ]
  },
  {
   "cell_type": "markdown",
   "metadata": {},
   "source": [
    "## ChatNS"
   ]
  },
  {
   "cell_type": "code",
   "execution_count": 24,
   "metadata": {},
   "outputs": [
    {
     "name": "stdout",
     "output_type": "stream",
     "text": [
      "Distinct positions visited: 41\n"
     ]
    }
   ],
   "source": [
    "def simulate_guard_path(grid):\n",
    "    # Directions: up (0), right (1), down (2), left (3)\n",
    "    directions = [(-1, 0), (0, 1), (1, 0), (0, -1)]\n",
    "    current_direction = 0  # initially facing up\n",
    "\n",
    "    # Locate the starting position of the guard\n",
    "    guard_pos = None\n",
    "    for r in range(len(grid)):\n",
    "        for c in range(len(grid[0])):\n",
    "            if grid[r][c] == \"^\":\n",
    "                guard_pos = (r, c)\n",
    "                break\n",
    "        if guard_pos:\n",
    "            break\n",
    "\n",
    "    visited_positions = set([guard_pos])\n",
    "    visited_states = set([(guard_pos, current_direction)])\n",
    "\n",
    "    while True:\n",
    "        # Calculate next position based on current direction\n",
    "        next_r = guard_pos[0] + directions[current_direction][0]\n",
    "        next_c = guard_pos[1] + directions[current_direction][1]\n",
    "\n",
    "        # Check if the next position is out of bounds\n",
    "        if not (0 <= next_r < len(grid) and 0 <= next_c < len(grid[0])):\n",
    "            break\n",
    "\n",
    "        # Check if the next position is an obstacle\n",
    "        if grid[next_r][next_c] != \"#\":\n",
    "            guard_pos = (next_r, next_c)\n",
    "            visited_positions.add(guard_pos)\n",
    "        else:\n",
    "            # Turn right (clockwise) if there's an obstacle\n",
    "            current_direction = (current_direction + 1) % 4\n",
    "\n",
    "        # Check if the new state is already visited; if so, terminate\n",
    "        state = (guard_pos, current_direction)\n",
    "        if state in visited_states:\n",
    "            break\n",
    "\n",
    "        # Add the new state to visited states\n",
    "        visited_states.add(state)\n",
    "\n",
    "    # Return the number of distinct positions visited\n",
    "    return len(visited_positions)\n",
    "\n",
    "\n",
    "# Example map input\n",
    "map_input = [\n",
    "    \"....#.....\",\n",
    "    \".........#\",\n",
    "    \"..........\",\n",
    "    \"..#.......\",\n",
    "    \".......#..\",\n",
    "    \"..........\",\n",
    "    \".#..^.....\",\n",
    "    \"........#.\",\n",
    "    \"#.........\",\n",
    "    \"......#...\",\n",
    "]\n",
    "\n",
    "# Call the function and print the result\n",
    "result = simulate_guard_path([list(row) for row in map_input])\n",
    "print(\"Distinct positions visited:\", result)"
   ]
  },
  {
   "cell_type": "code",
   "execution_count": 26,
   "metadata": {},
   "outputs": [
    {
     "name": "stdout",
     "output_type": "stream",
     "text": [
      "Distinct positions visited: 5129\n"
     ]
    }
   ],
   "source": [
    "result = simulate_guard_path([list(row) for row in map_input])\n",
    "print(\"Distinct positions visited:\", result)"
   ]
  },
  {
   "cell_type": "code",
   "execution_count": 28,
   "metadata": {},
   "outputs": [
    {
     "name": "stdout",
     "output_type": "stream",
     "text": [
      "Number of valid obstruction positions: 6\n"
     ]
    }
   ],
   "source": [
    "def simulate_guard_path_with_obstruction(grid, obstruction_pos):\n",
    "    # Define directions: up (0), right (1), down (2), left (3)\n",
    "    directions = [(-1, 0), (0, 1), (1, 0), (0, -1)]\n",
    "    current_direction = 0  # initially facing up\n",
    "\n",
    "    # Locate the starting position of the guard\n",
    "    guard_pos = None\n",
    "    for r in range(len(grid)):\n",
    "        for c in range(len(grid[0])):\n",
    "            if grid[r][c] == \"^\":\n",
    "                guard_pos = (r, c)\n",
    "                break\n",
    "        if guard_pos:\n",
    "            break\n",
    "\n",
    "    # Place the obstruction\n",
    "    grid[obstruction_pos[0]][obstruction_pos[1]] = \"#\"\n",
    "\n",
    "    visited_states = set([(guard_pos, current_direction)])\n",
    "\n",
    "    while True:\n",
    "        # Calculate next position based on current direction\n",
    "        next_r = guard_pos[0] + directions[current_direction][0]\n",
    "        next_c = guard_pos[1] + directions[current_direction][1]\n",
    "\n",
    "        # Stop if the next position is out of bounds\n",
    "        if not (0 <= next_r < len(grid) and 0 <= next_c < len(grid[0])):\n",
    "            return False  # Guard left the map\n",
    "\n",
    "        # Check if the next position is an obstacle\n",
    "        if grid[next_r][next_c] == \"#\":\n",
    "            # Turn right (clockwise) if there's an obstacle\n",
    "            current_direction = (current_direction + 1) % 4\n",
    "        else:\n",
    "            guard_pos = (next_r, next_c)\n",
    "\n",
    "        # Check for loop by detecting repeated states\n",
    "        state = (guard_pos, current_direction)\n",
    "        if state in visited_states:\n",
    "            return True  # Getting stuck in a loop\n",
    "        visited_states.add(state)\n",
    "\n",
    "\n",
    "def find_obstruction_positions(grid):\n",
    "    valid_positions = []\n",
    "    for r in range(len(grid)):\n",
    "        for c in range(len(grid[0])):\n",
    "            # Avoid placing an obstruction at the start position or where there's already an obstacle\n",
    "            if grid[r][c] in \".^\":\n",
    "                # Make a deep copy of the grid to simulate the obstruction\n",
    "                grid_copy = [list(row) for row in grid]\n",
    "                if simulate_guard_path_with_obstruction(grid_copy, (r, c)):\n",
    "                    valid_positions.append((r, c))\n",
    "    return valid_positions\n",
    "\n",
    "\n",
    "# Example map input\n",
    "map_input = [\n",
    "    \"....#.....\",\n",
    "    \".........#\",\n",
    "    \"..........\",\n",
    "    \"..#.......\",\n",
    "    \".......#..\",\n",
    "    \"..........\",\n",
    "    \".#..^.....\",\n",
    "    \"........#.\",\n",
    "    \"#.........\",\n",
    "    \"......#...\",\n",
    "]\n",
    "\n",
    "# Convert each row from string to a list\n",
    "map_grid = [list(row) for row in map_input]\n",
    "\n",
    "# Call the function and print the number of valid obstruction positions\n",
    "valid_positions = find_obstruction_positions(map_grid)\n",
    "print(\"Number of valid obstruction positions:\", len(valid_positions))"
   ]
  },
  {
   "cell_type": "code",
   "execution_count": 31,
   "metadata": {},
   "outputs": [
    {
     "name": "stdout",
     "output_type": "stream",
     "text": [
      "Number of valid obstruction positions: 1888\n"
     ]
    }
   ],
   "source": [
    "map_grid = [list(row) for row in map_input]\n",
    "\n",
    "# Call the function and print the number of valid obstruction positions\n",
    "valid_positions = find_obstruction_positions(map_grid)\n",
    "print(\"Number of valid obstruction positions:\", len(valid_positions))"
   ]
  },
  {
   "cell_type": "code",
   "execution_count": null,
   "metadata": {},
   "outputs": [],
   "source": []
  }
 ],
 "metadata": {
  "kernelspec": {
   "display_name": ".venv",
   "language": "python",
   "name": "python3"
  },
  "language_info": {
   "codemirror_mode": {
    "name": "ipython",
    "version": 3
   },
   "file_extension": ".py",
   "mimetype": "text/x-python",
   "name": "python",
   "nbconvert_exporter": "python",
   "pygments_lexer": "ipython3",
   "version": "3.12.1"
  }
 },
 "nbformat": 4,
 "nbformat_minor": 2
}
