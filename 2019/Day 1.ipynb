{
 "cells": [
  {
   "cell_type": "code",
   "execution_count": 5,
   "metadata": {},
   "outputs": [],
   "source": [
    "with open(\"./data/Day 1/input.txt\") as f:\n",
    "    data = [int(i) for i in f.read().splitlines()]"
   ]
  },
  {
   "cell_type": "code",
   "execution_count": 6,
   "metadata": {},
   "outputs": [
    {
     "name": "stdout",
     "output_type": "stream",
     "text": [
      "Total fuel requirement: 34241\n",
      "Total fuel requirement: 3267638\n"
     ]
    }
   ],
   "source": [
    "def calculate_fuel(mass):\n",
    "    # Calculate fuel required for a given mass\n",
    "    return max(mass // 3 - 2, 0)\n",
    "\n",
    "def total_fuel_requirement(masses):\n",
    "    # Calculate the total fuel requirement for all module masses\n",
    "    total_fuel = 0\n",
    "    for mass in masses:\n",
    "        fuel = calculate_fuel(mass)\n",
    "        total_fuel += fuel\n",
    "    return total_fuel\n",
    "\n",
    "# Example list of module masses, replace with your input data\n",
    "module_masses = [12, 14, 1969, 100756]\n",
    "\n",
    "# Calculate and print the total fuel requirement for the module masses\n",
    "total_fuel = total_fuel_requirement(module_masses)\n",
    "print(f\"Total fuel requirement: {total_fuel}\")\n",
    "\n",
    "total_fuel = total_fuel_requirement(data)\n",
    "print(f\"Total fuel requirement: {total_fuel}\")"
   ]
  },
  {
   "cell_type": "code",
   "execution_count": 7,
   "metadata": {},
   "outputs": [
    {
     "name": "stdout",
     "output_type": "stream",
     "text": [
      "Total fuel requirement: 51314\n",
      "Total fuel requirement: 4898585\n"
     ]
    }
   ],
   "source": [
    "def calculate_additional_fuel(mass):\n",
    "    # Function to calculate the additional fuel needed for the given mass of fuel\n",
    "    total_fuel = 0\n",
    "    while mass > 0:\n",
    "        fuel = max(mass // 3 - 2, 0)\n",
    "        if fuel <= 0:\n",
    "            break\n",
    "        total_fuel += fuel\n",
    "        mass = fuel\n",
    "    return total_fuel\n",
    "\n",
    "\n",
    "def total_fuel_requirement(masses):\n",
    "    # Calculate the total fuel requirement for all module masses, including additional fuel\n",
    "    total_fuel = 0\n",
    "    for mass in masses:\n",
    "        fuel_for_module = calculate_additional_fuel(mass)\n",
    "        total_fuel += fuel_for_module\n",
    "    return total_fuel\n",
    "\n",
    "\n",
    "# Example list of module masses, replace with your input data\n",
    "module_masses = [14, 1969, 100756]\n",
    "\n",
    "# Calculate and print the total fuel requirement for the module masses\n",
    "total_fuel = total_fuel_requirement(module_masses)\n",
    "print(f\"Total fuel requirement: {total_fuel}\")\n",
    "\n",
    "\n",
    "total_fuel = total_fuel_requirement(data)\n",
    "print(f\"Total fuel requirement: {total_fuel}\")"
   ]
  },
  {
   "cell_type": "code",
   "execution_count": null,
   "metadata": {},
   "outputs": [],
   "source": []
  }
 ],
 "metadata": {
  "kernelspec": {
   "display_name": ".venv",
   "language": "python",
   "name": "python3"
  },
  "language_info": {
   "codemirror_mode": {
    "name": "ipython",
    "version": 3
   },
   "file_extension": ".py",
   "mimetype": "text/x-python",
   "name": "python",
   "nbconvert_exporter": "python",
   "pygments_lexer": "ipython3",
   "version": "3.12.1"
  }
 },
 "nbformat": 4,
 "nbformat_minor": 2
}
