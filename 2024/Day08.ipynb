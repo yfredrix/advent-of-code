{
 "cells": [
  {
   "cell_type": "markdown",
   "metadata": {},
   "source": [
    "## ChatNS"
   ]
  },
  {
   "cell_type": "code",
   "execution_count": null,
   "metadata": {},
   "outputs": [
    {
     "name": "stdout",
     "output_type": "stream",
     "text": [
      "The number of unique locations that contain an antinode: 14\n"
     ]
    }
   ],
   "source": [
    "def parse_input(data):\n",
    "    antennas = []\n",
    "    for y, line in enumerate(data.strip().split(\"\\n\")):\n",
    "        for x, char in enumerate(line):\n",
    "            if char.isalnum():  # If it's a frequency character\n",
    "                antennas.append((x, y, char))\n",
    "    return antennas\n",
    "\n",
    "\n",
    "def find_unique_antinode_positions(antennas, width, height):\n",
    "    from collections import defaultdict\n",
    "\n",
    "    frequency_map = defaultdict(list)\n",
    "\n",
    "    # Group antennas by frequency\n",
    "    for x, y, freq in antennas:\n",
    "        frequency_map[freq].append((x, y))\n",
    "\n",
    "    antinode_positions = set()\n",
    "\n",
    "    # Calculate antinodes for each frequency group\n",
    "    for freq, positions in frequency_map.items():\n",
    "        n = len(positions)\n",
    "        for i in range(n):\n",
    "            for j in range(n):\n",
    "                if i != j:\n",
    "                    x1, y1 = positions[i]\n",
    "                    x2, y2 = positions[j]\n",
    "\n",
    "                    # Compute potential antinode positions\n",
    "                    # Antinode (twice as far) calculations\n",
    "                    possible_antinodes = [\n",
    "                        (\n",
    "                            2 * x1 - x2,\n",
    "                            2 * y1 - y2,\n",
    "                        ),  # Antinode in the direction from x2 to x1\n",
    "                        (\n",
    "                            2 * x2 - x1,\n",
    "                            2 * y2 - y1,\n",
    "                        ),  # Antinode in the direction from x1 to x2\n",
    "                    ]\n",
    "\n",
    "                    for x_new, y_new in possible_antinodes:\n",
    "                        if 0 <= x_new < width and 0 <= y_new < height:\n",
    "                            antinode_positions.add((x_new, y_new))\n",
    "\n",
    "    return antinode_positions\n",
    "\n",
    "\n",
    "# Input data (ensure you use the correct puzzle input)\n",
    "input_data = \"\"\"\n",
    "............\n",
    "........0...\n",
    ".....0......\n",
    ".......0....\n",
    "....0.......\n",
    "......A.....\n",
    "............\n",
    "............\n",
    "........A...\n",
    ".........A..\n",
    "............\n",
    "............\n",
    "\"\"\"\n",
    "\n",
    "# Assume a 12x12 grid as per the input example\n",
    "width, height = 12, 12\n",
    "\n",
    "# Parse input and find antinodes\n",
    "antennas = parse_input(input_data)\n",
    "unique_antinode_positions = find_unique_antinode_positions(antennas, width, height)\n",
    "\n",
    "# Unique antinode count\n",
    "print(\n",
    "    f\"The number of unique locations that contain an antinode: {len(unique_antinode_positions)}\"\n",
    ")"
   ]
  },
  {
   "cell_type": "code",
   "execution_count": 16,
   "metadata": {},
   "outputs": [],
   "source": [
    "with open(\"./data/Day 8/input.txt\") as f:\n",
    "    raw_data = f.read()\n",
    "    antennas = parse_input(raw_data)\n",
    "    height = len(raw_data.splitlines())\n",
    "    width = len(list(raw_data.splitlines()[0]))"
   ]
  },
  {
   "cell_type": "code",
   "execution_count": 4,
   "metadata": {},
   "outputs": [
    {
     "name": "stdout",
     "output_type": "stream",
     "text": [
      "The number of unique locations that contain an antinode: 289\n"
     ]
    }
   ],
   "source": [
    "unique_antinode_positions = find_unique_antinode_positions(antennas, width, height)\n",
    "\n",
    "# Unique antinode count\n",
    "print(\n",
    "    f\"The number of unique locations that contain an antinode: {len(unique_antinode_positions)}\"\n",
    ")"
   ]
  },
  {
   "cell_type": "code",
   "execution_count": 15,
   "metadata": {},
   "outputs": [
    {
     "name": "stdout",
     "output_type": "stream",
     "text": [
      "The number of unique locations that contain an antinode: 34\n"
     ]
    }
   ],
   "source": [
    "def parse_input(data):\n",
    "    antennas = []\n",
    "    for y, line in enumerate(data.strip().split(\"\\n\")):\n",
    "        for x, char in enumerate(line):\n",
    "            if char.isalnum():\n",
    "                antennas.append((x, y, char))\n",
    "    return antennas\n",
    "\n",
    "\n",
    "from collections import defaultdict\n",
    "\n",
    "\n",
    "def find_unique_antinode_positions(antennas, width, height):\n",
    "    frequency_map = defaultdict(list)\n",
    "\n",
    "    for x, y, freq in antennas:\n",
    "        frequency_map[freq].append((x, y))\n",
    "\n",
    "    antinode_positions = set()\n",
    "\n",
    "    for freq, positions in frequency_map.items():\n",
    "        n = len(positions)\n",
    "        for x in range(width):\n",
    "            for y in range(height):\n",
    "                is_antinode = False\n",
    "                for i in range(n):\n",
    "                    x1, y1 = positions[i]\n",
    "                    for j in range(i + 1, n):\n",
    "                        x2, y2 = positions[j]\n",
    "\n",
    "                        # Check if (x, y) is on the line between (x1, y1) and (x2, y2)\n",
    "                        if (x2 - x1) * (y - y1) == (x - x1) * (y2 - y1):\n",
    "                            is_antinode = True\n",
    "                            break\n",
    "                    if is_antinode:\n",
    "                        antinode_positions.add((x, y))\n",
    "                        break\n",
    "\n",
    "    return antinode_positions\n",
    "\n",
    "\n",
    "# Input\n",
    "input_data = \"\"\"\n",
    "............\n",
    "........0...\n",
    ".....0......\n",
    ".......0....\n",
    "....0.......\n",
    "......A.....\n",
    "............\n",
    "............\n",
    "........A...\n",
    ".........A..\n",
    "............\n",
    "............\n",
    "\"\"\"\n",
    "\n",
    "width, height = 12, 12\n",
    "\n",
    "# Determine the antinodes\n",
    "antennas = parse_input(input_data)\n",
    "unique_antinode_positions = find_unique_antinode_positions(antennas, width, height)\n",
    "\n",
    "# Output the result\n",
    "unique_antinode_count = len(unique_antinode_positions)\n",
    "print(\n",
    "    f\"The number of unique locations that contain an antinode: {unique_antinode_count}\"\n",
    ")"
   ]
  },
  {
   "cell_type": "code",
   "execution_count": 17,
   "metadata": {},
   "outputs": [
    {
     "name": "stdout",
     "output_type": "stream",
     "text": [
      "The number of unique locations that contain an antinode: 1030\n"
     ]
    }
   ],
   "source": [
    "unique_antinode_positions = find_unique_antinode_positions(antennas, width, height)\n",
    "\n",
    "# Output the result\n",
    "unique_antinode_count = len(unique_antinode_positions)\n",
    "print(\n",
    "    f\"The number of unique locations that contain an antinode: {unique_antinode_count}\"\n",
    ")"
   ]
  },
  {
   "cell_type": "markdown",
   "metadata": {},
   "source": [
    "### Part 1"
   ]
  },
  {
   "cell_type": "code",
   "execution_count": 30,
   "metadata": {},
   "outputs": [],
   "source": [
    "with open(\"./data/Day 8/input.txt\") as f:\n",
    "    raw_data = f.read()"
   ]
  },
  {
   "cell_type": "code",
   "execution_count": 31,
   "metadata": {},
   "outputs": [],
   "source": [
    "import numpy as np\n",
    "def parse_data(raw):\n",
    "    return np.array([list(line) for line in raw.splitlines()])"
   ]
  },
  {
   "cell_type": "code",
   "execution_count": 32,
   "metadata": {},
   "outputs": [],
   "source": [
    "def get_frequencies(antenna_grid: np.array):\n",
    "    return np.unique(antenna_grid[antenna_grid != \".\"])\n",
    "\n",
    "def get_antenna_positions(antenna_grid: np.array, freq: str):\n",
    "    return np.argwhere(antenna_grid == freq)\n",
    "\n",
    "def get_antinode_positions(antenna_grid: np.array, freq: str):\n",
    "    antinode_positions = set()\n",
    "    for i, (x1, y1) in enumerate(get_antenna_positions(antenna_grid, freq)):\n",
    "        for j, (x2, y2) in enumerate(get_antenna_positions(antenna_grid, freq)):\n",
    "            if i != j:\n",
    "                antinode_x = 2 * (x2 - x1) + x1\n",
    "                antinode_y = 2 * (y2 - y1) + y1\n",
    "                if 0 <= antinode_x < antenna_grid.shape[1] and 0 <= antinode_y < antenna_grid.shape[0]:\n",
    "                    antinode_positions.add((antinode_x, antinode_y))\n",
    "    return antinode_positions\n",
    "\n",
    "def get_number_of_antinodes(antenna_grid: np.array):\n",
    "    antinode_positions = set()\n",
    "    for freq in get_frequencies(antenna_grid):\n",
    "        antinode_positions = antinode_positions.union(\n",
    "            get_antinode_positions(antenna_grid, freq)\n",
    "        )\n",
    "    return len(antinode_positions)"
   ]
  },
  {
   "cell_type": "code",
   "execution_count": 33,
   "metadata": {},
   "outputs": [
    {
     "data": {
      "text/plain": [
       "14"
      ]
     },
     "execution_count": 33,
     "metadata": {},
     "output_type": "execute_result"
    }
   ],
   "source": [
    "example_data = \"\"\"............\n",
    "........0...\n",
    ".....0......\n",
    ".......0....\n",
    "....0.......\n",
    "......A.....\n",
    "............\n",
    "............\n",
    "........A...\n",
    ".........A..\n",
    "............\n",
    "............\n",
    "\"\"\"\n",
    "\n",
    "example_parse = parse_data(example_data)\n",
    "get_number_of_antinodes(example_parse)"
   ]
  },
  {
   "cell_type": "code",
   "execution_count": 34,
   "metadata": {},
   "outputs": [
    {
     "data": {
      "text/plain": [
       "289"
      ]
     },
     "execution_count": 34,
     "metadata": {},
     "output_type": "execute_result"
    }
   ],
   "source": [
    "parsed = parse_data(raw_data)\n",
    "get_number_of_antinodes(parsed)"
   ]
  },
  {
   "cell_type": "markdown",
   "metadata": {},
   "source": [
    "## Part 2"
   ]
  },
  {
   "cell_type": "code",
   "execution_count": 35,
   "metadata": {},
   "outputs": [],
   "source": [
    "def get_antinode_positions(antenna_grid: np.array, freq: str):\n",
    "    antinode_positions = set()\n",
    "    for i, (x1, y1) in enumerate(get_antenna_positions(antenna_grid, freq)):\n",
    "        for j, (x2, y2) in enumerate(get_antenna_positions(antenna_grid, freq)):\n",
    "            step = 1\n",
    "            if i != j:\n",
    "                dx = x2 - x1\n",
    "                dy = y2 - y1\n",
    "                while 0 <= x1 + step * dx < antenna_grid.shape[1] and 0 <= y1 + step * dy < antenna_grid.shape[0]:\n",
    "                    antinode_positions.add((x1 + step * dx, y1 + step * dy))\n",
    "                    step += 1\n",
    "    return antinode_positions"
   ]
  },
  {
   "cell_type": "code",
   "execution_count": 36,
   "metadata": {},
   "outputs": [
    {
     "data": {
      "text/plain": [
       "34"
      ]
     },
     "execution_count": 36,
     "metadata": {},
     "output_type": "execute_result"
    }
   ],
   "source": [
    "example_parse = parse_data(example_data)\n",
    "get_number_of_antinodes(example_parse)"
   ]
  },
  {
   "cell_type": "code",
   "execution_count": 37,
   "metadata": {},
   "outputs": [
    {
     "data": {
      "text/plain": [
       "1030"
      ]
     },
     "execution_count": 37,
     "metadata": {},
     "output_type": "execute_result"
    }
   ],
   "source": [
    "parsed = parse_data(raw_data)\n",
    "get_number_of_antinodes(parsed)"
   ]
  },
  {
   "cell_type": "code",
   "execution_count": null,
   "metadata": {},
   "outputs": [],
   "source": []
  }
 ],
 "metadata": {
  "kernelspec": {
   "display_name": ".venv",
   "language": "python",
   "name": "python3"
  },
  "language_info": {
   "codemirror_mode": {
    "name": "ipython",
    "version": 3
   },
   "file_extension": ".py",
   "mimetype": "text/x-python",
   "name": "python",
   "nbconvert_exporter": "python",
   "pygments_lexer": "ipython3",
   "version": "3.12.1"
  }
 },
 "nbformat": 4,
 "nbformat_minor": 2
}
