{
 "cells": [
  {
   "cell_type": "code",
   "execution_count": 18,
   "metadata": {},
   "outputs": [],
   "source": [
    "with open('./data/Day 11/input.txt') as f:\n",
    "    initial_stones = [int(i) for i in f.read().strip(\"\\n\").split(\" \")]"
   ]
  },
  {
   "cell_type": "markdown",
   "metadata": {},
   "source": [
    "## ChatNS"
   ]
  },
  {
   "cell_type": "code",
   "execution_count": 1,
   "metadata": {},
   "outputs": [
    {
     "name": "stdout",
     "output_type": "stream",
     "text": [
      "55312\n"
     ]
    }
   ],
   "source": [
    "def blink_stones(stones, num_blinks):\n",
    "    for _ in range(num_blinks):\n",
    "        new_stones = []\n",
    "        for stone in stones:\n",
    "            if stone == 0:\n",
    "                # Rule 1: If the stone is engraved with the number 0, it is replaced by number 1.\n",
    "                new_stones.append(1)\n",
    "            elif len(str(stone)) % 2 == 0:\n",
    "                # Rule 2: Stone has an even number of digits, split into two stones.\n",
    "                digits = str(stone)\n",
    "                half = len(digits) // 2\n",
    "                left_part = int(digits[:half].lstrip('0') or '0')  # Removing leading zeros\n",
    "                right_part = int(digits[half:].lstrip('0') or '0')  # Removing leading zeros\n",
    "                new_stones.extend([left_part, right_part])\n",
    "            else:\n",
    "                # Rule 3: Otherwise, multiply the stone's number by 2024.\n",
    "                new_stones.append(stone * 2024)\n",
    "        stones = new_stones\n",
    "    return stones\n",
    "\n",
    "# Puzzle input: Consider your initial arrangement of stones here.\n",
    "initial_stones = [125, 17]  # Update this line with your specific arrangement\n",
    "\n",
    "# Calculate the number of stones after 25 blinks\n",
    "final_stones = blink_stones(initial_stones, 25)\n",
    "print(len(final_stones))"
   ]
  },
  {
   "cell_type": "code",
   "execution_count": 12,
   "metadata": {},
   "outputs": [
    {
     "name": "stdout",
     "output_type": "stream",
     "text": [
      "218079\n"
     ]
    }
   ],
   "source": [
    "# Calculate the number of stones after 25 blinks\n",
    "final_stones = blink_stones(initial_stones, 25)\n",
    "print(len(final_stones))"
   ]
  },
  {
   "cell_type": "code",
   "execution_count": null,
   "metadata": {},
   "outputs": [
    {
     "name": "stdout",
     "output_type": "stream",
     "text": [
      "65601038650482\n"
     ]
    }
   ],
   "source": [
    "from collections import defaultdict\n",
    "\n",
    "\n",
    "# Function to count stones after each blink\n",
    "def count_stones(stones_count, num_blinks):\n",
    "    for _ in range(num_blinks):\n",
    "        new_stones_count = defaultdict(int)\n",
    "\n",
    "        for stone, count in stones_count.items():\n",
    "            if stone == 0:\n",
    "                # Replace each 0 with a 1\n",
    "                new_stones_count[1] += count\n",
    "            elif len(str(stone)) % 2 == 0:\n",
    "                # Split the stone with an even number of digits into two stones\n",
    "                digits = str(stone)\n",
    "                half = len(digits) // 2\n",
    "                left_part = int(digits[:half].lstrip(\"0\") or \"0\")\n",
    "                right_part = int(digits[half:].lstrip(\"0\") or \"0\")\n",
    "                new_stones_count[left_part] += count\n",
    "                new_stones_count[right_part] += count\n",
    "            else:\n",
    "                # Multiply the remaining stones by 2024\n",
    "                new_stones_count[stone * 2024] += count\n",
    "\n",
    "        stones_count = new_stones_count\n",
    "\n",
    "    # Sum up all the stone counts\n",
    "    return sum(stones_count.values())\n",
    "\n",
    "\n",
    "# Initial arrangement, enter your specific test input as a dictionary {stone_value: count}\n",
    "initial_stones = {125: 1, 17: 1}  # Example initial stones\n",
    "\n",
    "# Calculate number of stones after 75 blinks without explicitly storing all stones\n",
    "total_stones_after_blinks = count_stones(initial_stones, num_blinks=75)\n",
    "print(total_stones_after_blinks)"
   ]
  },
  {
   "cell_type": "code",
   "execution_count": 21,
   "metadata": {},
   "outputs": [
    {
     "name": "stdout",
     "output_type": "stream",
     "text": [
      "259755538429618\n"
     ]
    }
   ],
   "source": [
    "stones_dict = {\n",
    "    stone: initial_stones.count(stone) for stone in set(initial_stones)\n",
    "}\n",
    "total_stones_after_blinks = count_stones(stones_dict, num_blinks=75)\n",
    "print(total_stones_after_blinks)"
   ]
  },
  {
   "cell_type": "markdown",
   "metadata": {},
   "source": [
    "#### system\n",
    "You are an excellent python programmer with 10 years of experience. In this time you have excelled at solving problems with different algoritms, and are great at solving advent of code.\n",
    "\n",
    "#### User\n",
    "Can you help me solve the following challenge in python: The ancient civilization on Pluto was known for its ability to manipulate spacetime, and while The Historians explore their infinite corridors, you've noticed a strange set of physics-defying stones.\\n\\nAt first glance, they seem like normal stones: they're arranged in a perfectly straight line, and each stone has a number engraved on it.\\n\\nThe strange part is that every time you blink, the stones change.\\n\\nSometimes, the number engraved on a stone changes. Other times, a stone might split in two, causing all the other stones to shift over a bit to make room in their perfectly straight line.\\n\\nAs you observe them for a while, you find that the stones have a consistent behavior. Every time you blink, the stones each simultaneously change according to the first applicable rule in this list:\\n\\n    If the stone is engraved with the number 0, it is replaced by a stone engraved with the number 1.\\n    If the stone is engraved with a number that has an even number of digits, it is replaced by two stones. The left half of the digits are engraved on the new left stone, and the right half of the digits are engraved on the new right stone. (The new numbers don't keep extra leading zeroes: 1000 would become stones 10 and 0.)\\n    If none of the other rules apply, the stone is replaced by a new stone; the old stone's number multiplied by 2024 is engraved on the new stone.\\n\\nNo matter how the stones change, their order is preserved, and they stay on their perfectly straight line.\\n\\nHow will the stones evolve if you keep blinking at them? You take a note of the number engraved on each stone in the line (your puzzle input).\\n\\nIf you have an arrangement of five stones engraved with the numbers 0 1 10 99 999 and you blink once, the stones transform as follows:\\n\\n    The first stone, 0, becomes a stone marked 1.\\n    The second stone, 1, is multiplied by 2024 to become 2024.\\n    The third stone, 10, is split into a stone marked 1 followed by a stone marked 0.\\n    The fourth stone, 99, is split into two stones marked 9.\\n    The fifth stone, 999, is replaced by a stone marked 2021976.\\n\\nSo, after blinking once, your five stones would become an arrangement of seven stones engraved with the numbers 1 2024 1 0 9 9 2021976.\\n\\nHere is a longer example:\\n\\nInitial arrangement:\\n125 17\\n\\nAfter 1 blink:\\n253000 1 7\\n\\nAfter 2 blinks:\\n253 0 2024 14168\\n\\nAfter 3 blinks:\\n512072 1 20 24 28676032\\n\\nAfter 4 blinks:\\n512 72 2024 2 0 2 4 2867 6032\\n\\nAfter 5 blinks:\\n1036288 7 2 20 24 4048 1 4048 8096 28 67 60 32\\n\\nAfter 6 blinks:\\n2097446912 14168 4048 2 0 2 4 40 48 2024 40 48 80 96 2 8 6 7 6 0 3 2\\n\\nIn this example, after blinking six times, you would have 22 stones. After blinking 25 times, you would have 55312 stones!\\n\\nConsider the arrangement of stones in front of you. How many stones will you have after blinking 25 times?\n",
    "\n",
    "#### Assistant\n",
    "To solve this problem, we need to simulate the blink operation on the arrangement of stones 25 times, applying the rules as described. At each blink, we'll process the stones from left to right, applying the appropriate transformation based on the rules provided. Let me present you with a Python function that performs this simulation:\\n\\n\n",
    "```python\\ndef blink_stones(stones, num_blinks):\\n    for _ in range(num_blinks):\\n        new_stones = []\\n        for stone in stones:\\n            if stone == 0:\\n                # Rule 1: If the stone is engraved with the number 0, it is replaced by number 1.\\n                new_stones.append(1)\\n            elif len(str(stone)) % 2 == 0:\\n                # Rule 2: Stone has an even number of digits, split into two stones.\\n                digits = str(stone)\\n                half = len(digits) // 2\\n                left_part = int(digits[:half].lstrip('0') or '0')  # Removing leading zeros\\n                right_part = int(digits[half:].lstrip('0') or '0')  # Removing leading zeros\\n                new_stones.extend([left_part, right_part])\\n            else:\\n                # Rule 3: Otherwise, multiply the stone's number by 2024.\\n                new_stones.append(stone * 2024)\\n        stones = new_stones\\n    return stones\\n\\n# Puzzle input: Consider your initial arrangement of stones here.\\ninitial_stones = [125, 17]  # Update this line with your specific arrangement\\n\\n# Calculate the number of stones after 25 blinks\\nfinal_stones = blink_stones(initial_stones, 25)\\nprint(len(final_stones))\\n```\n",
    "\\n\\nThis function `blink_stones` iterates over the list of stones, applying the rules as per your description. Here's a breakdown of the steps:\\n\\n1. **Rule Application**: The function checks each stone against the rules in order: first checking if it's `0`, then if it has an even number of digits, and finally applying the multiplication rule if neither of the first two applies.\\n2. **Simultaneous Transformation**: Each blink involves transforming all stones at once, which is handled by building a new list of stones (`new_stones`) on each iteration.\\n3. **Understanding Edge Cases**: We use the `lstrip('0') or '0'` pattern to handle cases where the resulting number might have stripped off all digits (e.g., `1000` becomes two stones `10` and `0`).\\n\\nReplace `initial_stones = [125, 17]` with your actual initial configuration to get the result after 25 blinks. This will output the number of stones present after the specified number of blinks.\n",
    "\n",
    "#### User\n",
    "Great this works for small number of blinks; however the puzzle now requires a large number of blinks exploding the stones list. How can we tackle this?\n",
    "\n",
    "#### Assistant\n",
    "When dealing with a large number of blinks that cause the list of stones to explode in size, we need to consider an efficient approach to simulate the process without explicitly constructing the entire list of stones after each blink. Here are some strategies to tackle this:\\n\\n1. **Direct Computation on Counts**: Instead of managing the entire list of stones, consider counting how many stones satisfy each transformation rule and update these counts iteratively. This way, we only track the number of stones, not their individual values.\\n\\n2. **Use of Generators or Lazy Evaluation**: Instead of generating the complete list of stones, consider using Python generators or lazy evaluation techniques to simulate transformations as needed.\\n\\n3. **Memoization or Caching**: For repetitive transformations, you might cache results for stones that appear frequently, reducing redundant calculations.\\n\\nHere is the approach using a counting strategy to maintain counts of stones without explicitly constructing the full list:\\n\\n```python\\nfrom collections import defaultdict\\n\\n# Function to count stones after each blink\\ndef count_stones(stones_count, num_blinks):\\n    for _ in range(num_blinks):\\n        new_stones_count = defaultdict(int)\\n\\n        for stone, count in stones_count.items():\\n            if stone == 0:\\n                # Replace each 0 with a 1\\n                new_stones_count[1] += count\\n            elif len(str(stone)) % 2 == 0:\\n                # Split the stone with an even number of digits into two stones\\n                digits = str(stone)\\n                half = len(digits) // 2\\n                left_part = int(digits[:half].lstrip('0') or '0')\\n                right_part = int(digits[half:].lstrip('0') or '0')\\n                new_stones_count[left_part] += count\\n                new_stones_count[right_part] += count\\n            else:\\n                # Multiply the remaining stones by 2024\\n                new_stones_count[stone * 2024] += count\\n\\n        stones_count = new_stones_count\\n\\n    # Sum up all the stone counts\\n    return sum(stones_count.values())\\n\\n# Initial arrangement, enter your specific test input as a dictionary {stone_value: count}\\ninitial_stones = {125: 1, 17: 1}  # Example initial stones\\n\\n# Calculate number of stones after 25 blinks without explicitly storing all stones\\ntotal_stones_after_blinks = count_stones(initial_stones, 25)\\nprint(total_stones_after_blinks)\\n```\\n\\n### Explanation:\\n- **Stone Counting**: We use a dictionary (`stones_count`) to store the number of stones with each value. We then update this dictionary rather than operate on a list of stones.\\n  \\n- **Transformation Rules**: For each blink, we update the dictionary based on transformation rules for each unique stone value, while maintaining the count of how many stones followed that transformation path.\\n\\n- **Efficiency**: This method significantly reduces memory usage by focusing on stone counts instead of managing a potentially massive list. Thus, it should perform efficiently even for a much larger number of blinks. \\n\\nThis approach enables you to simulate the stone transformations in a memory-efficient manner.\n"
   ]
  }
 ],
 "metadata": {
  "kernelspec": {
   "display_name": ".venv",
   "language": "python",
   "name": "python3"
  },
  "language_info": {
   "codemirror_mode": {
    "name": "ipython",
    "version": 3
   },
   "file_extension": ".py",
   "mimetype": "text/x-python",
   "name": "python",
   "nbconvert_exporter": "python",
   "pygments_lexer": "ipython3",
   "version": "3.12.1"
  }
 },
 "nbformat": 4,
 "nbformat_minor": 2
}
