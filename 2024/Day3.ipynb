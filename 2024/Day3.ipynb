{
 "cells": [
  {
   "cell_type": "code",
   "execution_count": 1,
   "metadata": {},
   "outputs": [],
   "source": [
    "with open(\"./data/Day 3/input.txt\", 'r') as file:\n",
    "    corrupted_memory = file.read()"
   ]
  },
  {
   "cell_type": "markdown",
   "metadata": {},
   "source": [
    "# ChatNS"
   ]
  },
  {
   "cell_type": "code",
   "execution_count": 2,
   "metadata": {},
   "outputs": [
    {
     "name": "stdout",
     "output_type": "stream",
     "text": [
      "161\n"
     ]
    }
   ],
   "source": [
    "import re\n",
    "\n",
    "def sum_of_mul_results(memory):\n",
    "    # Regular expression to match the valid mul(X,Y) instructions\n",
    "    pattern = r'mul\\((\\d+),(\\d+)\\)'\n",
    "    \n",
    "    # Find all matches in the corrupted memory using regular expressions\n",
    "    matches = re.findall(pattern, memory)\n",
    "    \n",
    "    # Calculate the sum of the results of all valid mul instructions\n",
    "    total_sum = sum(int(x) * int(y) for x, y in matches)\n",
    "    \n",
    "    return total_sum\n",
    "\n",
    "# Example corrupted memory input\n",
    "example_corrupted_memory = \"xmul(2,4)%&mul[3,7]!@^do_not_mul(5,5)+mul(32,64]then(mul(11,8)mul(8,5))\"\n",
    "\n",
    "# Calculate and print the result\n",
    "result = sum_of_mul_results(example_corrupted_memory)\n",
    "print(result)"
   ]
  },
  {
   "cell_type": "code",
   "execution_count": 3,
   "metadata": {},
   "outputs": [
    {
     "data": {
      "text/plain": [
       "173419328"
      ]
     },
     "execution_count": 3,
     "metadata": {},
     "output_type": "execute_result"
    }
   ],
   "source": [
    "sum_of_mul_results(corrupted_memory)"
   ]
  },
  {
   "cell_type": "code",
   "execution_count": 4,
   "metadata": {},
   "outputs": [
    {
     "name": "stdout",
     "output_type": "stream",
     "text": [
      "48\n"
     ]
    }
   ],
   "source": [
    "import re\n",
    "\n",
    "def sum_of_mul_results_with_conditions(memory):\n",
    "    # Regular expression to match the valid mul(X,Y) instructions\n",
    "    mul_pattern = r'mul\\((\\d+),(\\d+)\\)'\n",
    "    \n",
    "    # Regular expressions for do() and don't() instructions\n",
    "    do_pattern = r'do\\(\\)'\n",
    "    dont_pattern = r\"don't\\(\\)\"\n",
    "    \n",
    "    # Find all matches for mul, do, and don't instructions in the corrupted memory\n",
    "    mul_matches = re.finditer(mul_pattern, memory)\n",
    "    do_matches = re.finditer(do_pattern, memory)\n",
    "    dont_matches = re.finditer(dont_pattern, memory)\n",
    "\n",
    "    # Combine all matches with their positions and sort by position\n",
    "    all_matches = list(mul_matches) + list(do_matches) + list(dont_matches)\n",
    "    all_matches.sort(key=lambda match: match.start())\n",
    "\n",
    "    # Initialize variables\n",
    "    total_sum = 0\n",
    "    mul_enabled = True\n",
    "\n",
    "    # Iterate over all matches in order\n",
    "    for match in all_matches:\n",
    "        if match.re.pattern == mul_pattern:\n",
    "            if mul_enabled:\n",
    "                x, y = match.groups()\n",
    "                total_sum += int(x) * int(y)\n",
    "        elif match.re.pattern == do_pattern:\n",
    "            mul_enabled = True\n",
    "        elif match.re.pattern == dont_pattern:\n",
    "            mul_enabled = False\n",
    "\n",
    "    return total_sum\n",
    "\n",
    "# Example corrupted memory input\n",
    "example_corrupted_memory = \"xmul(2,4)&mul[3,7]!^don't()_mul(5,5)+mul(32,64](mul(11,8)undo()?mul(8,5))\"\n",
    "\n",
    "# Calculate and print the result\n",
    "result = sum_of_mul_results_with_conditions(example_corrupted_memory)\n",
    "print(result)"
   ]
  },
  {
   "cell_type": "code",
   "execution_count": 5,
   "metadata": {},
   "outputs": [
    {
     "data": {
      "text/plain": [
       "90669332"
      ]
     },
     "execution_count": 5,
     "metadata": {},
     "output_type": "execute_result"
    }
   ],
   "source": [
    "sum_of_mul_results_with_conditions(corrupted_memory)"
   ]
  },
  {
   "cell_type": "markdown",
   "metadata": {},
   "source": [
    "## Part 1"
   ]
  },
  {
   "cell_type": "code",
   "execution_count": 6,
   "metadata": {},
   "outputs": [],
   "source": [
    "import re\n",
    "def mul(x, y):\n",
    "    return x * y\n",
    "\n",
    "def sum_of_mul_results(memory):\n",
    "    pattern = r'(mul\\(\\d+,\\d+\\))'\n",
    "    matches = re.findall(pattern, memory)\n",
    "    total_sum = sum(eval(match) for match in matches)\n",
    "    \n",
    "    return total_sum"
   ]
  },
  {
   "cell_type": "code",
   "execution_count": 7,
   "metadata": {},
   "outputs": [
    {
     "data": {
      "text/plain": [
       "173419328"
      ]
     },
     "execution_count": 7,
     "metadata": {},
     "output_type": "execute_result"
    }
   ],
   "source": [
    "sum_of_mul_results(corrupted_memory)"
   ]
  },
  {
   "cell_type": "markdown",
   "metadata": {},
   "source": [
    "# Part 2"
   ]
  },
  {
   "cell_type": "code",
   "execution_count": 13,
   "metadata": {},
   "outputs": [
    {
     "name": "stdout",
     "output_type": "stream",
     "text": [
      "xmul(2,4)&mul[3,7]!^?mul(8,5))\n"
     ]
    }
   ],
   "source": [
    "def delete_between_dont_and_do(memory: str):\n",
    "    while memory.find(\"don't()\") != -1:\n",
    "        dont_index = memory.find(\"don't()\")\n",
    "        do_index = memory.find(\"do()\", dont_index)\n",
    "        if do_index != -1:\n",
    "            memory = memory[:dont_index] + memory[do_index+4:]\n",
    "        else:\n",
    "            memory = memory[:dont_index]\n",
    "    return memory\n",
    "\n",
    "# Example corrupted memory input\n",
    "example_corrupted_memory = \"xmul(2,4)&mul[3,7]!^don't()_mul(5,5)+mul(32,64](mul(11,8)undo()?mul(8,5))\"\n",
    "\n",
    "# Clean the memory and print the result\n",
    "cleaned_memory = delete_between_dont_and_do(example_corrupted_memory)\n",
    "print(cleaned_memory)"
   ]
  },
  {
   "cell_type": "code",
   "execution_count": 14,
   "metadata": {},
   "outputs": [
    {
     "data": {
      "text/plain": [
       "90669332"
      ]
     },
     "execution_count": 14,
     "metadata": {},
     "output_type": "execute_result"
    }
   ],
   "source": [
    "sum_of_mul_results(delete_between_dont_and_do(corrupted_memory))"
   ]
  },
  {
   "cell_type": "code",
   "execution_count": null,
   "metadata": {},
   "outputs": [],
   "source": []
  }
 ],
 "metadata": {
  "kernelspec": {
   "display_name": ".venv",
   "language": "python",
   "name": "python3"
  },
  "language_info": {
   "codemirror_mode": {
    "name": "ipython",
    "version": 3
   },
   "file_extension": ".py",
   "mimetype": "text/x-python",
   "name": "python",
   "nbconvert_exporter": "python",
   "pygments_lexer": "ipython3",
   "version": "3.12.7"
  }
 },
 "nbformat": 4,
 "nbformat_minor": 2
}
