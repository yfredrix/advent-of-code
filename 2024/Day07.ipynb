{
 "cells": [
  {
   "cell_type": "code",
   "execution_count": 6,
   "metadata": {},
   "outputs": [],
   "source": [
    "with open('./data/Day 7/input.txt') as f:\n",
    "    calibration_data = f.read().splitlines()"
   ]
  },
  {
   "cell_type": "code",
   "execution_count": 2,
   "metadata": {},
   "outputs": [
    {
     "name": "stdout",
     "output_type": "stream",
     "text": [
      "Total calibration result: 3749\n"
     ]
    }
   ],
   "source": [
    "from itertools import product\n",
    "\n",
    "\n",
    "def evaluate_expression(numbers, operations):\n",
    "    \"\"\"Evaluate the expression by applying operations left to right.\"\"\"\n",
    "    result = numbers[0]\n",
    "    for i, op in enumerate(operations):\n",
    "        if op == \"+\":\n",
    "            result += numbers[i + 1]\n",
    "        elif op == \"*\":\n",
    "            result *= numbers[i + 1]\n",
    "    return result\n",
    "\n",
    "\n",
    "def find_valid_equations(calibration_data):\n",
    "    \"\"\"Find equations that can be made true by inserting operators.\"\"\"\n",
    "    total_calibration_result = 0\n",
    "\n",
    "    for line in calibration_data:\n",
    "        parts = line.split(\":\")\n",
    "        test_value = int(parts[0])\n",
    "        numbers = list(map(int, parts[1].strip().split()))\n",
    "\n",
    "        # Possible operations: + and *, number of operations is len(numbers)-1\n",
    "        operations = [\"+\", \"*\"]\n",
    "        possible_operations = product(operations, repeat=len(numbers) - 1)\n",
    "\n",
    "        equation_possible = False\n",
    "        for ops in possible_operations:\n",
    "            if evaluate_expression(numbers, ops) == test_value:\n",
    "                equation_possible = True\n",
    "                break\n",
    "\n",
    "        if equation_possible:\n",
    "            total_calibration_result += test_value\n",
    "\n",
    "    return total_calibration_result\n",
    "\n",
    "\n",
    "# Example input as list of strings\n",
    "calibration_data = [\n",
    "    \"190: 10 19\",\n",
    "    \"3267: 81 40 27\",\n",
    "    \"83: 17 5\",\n",
    "    \"156: 15 6\",\n",
    "    \"7290: 6 8 6 15\",\n",
    "    \"161011: 16 10 13\",\n",
    "    \"192: 17 8 14\",\n",
    "    \"21037: 9 7 18 13\",\n",
    "    \"292: 11 6 16 20\",\n",
    "]\n",
    "\n",
    "result = find_valid_equations(calibration_data)\n",
    "print(\"Total calibration result:\", result)"
   ]
  },
  {
   "cell_type": "code",
   "execution_count": 4,
   "metadata": {},
   "outputs": [
    {
     "name": "stdout",
     "output_type": "stream",
     "text": [
      "Total calibration result: 20665830408335\n"
     ]
    }
   ],
   "source": [
    "result = find_valid_equations(calibration_data)\n",
    "print(\"Total calibration result:\", result)"
   ]
  },
  {
   "cell_type": "code",
   "execution_count": 5,
   "metadata": {},
   "outputs": [
    {
     "name": "stdout",
     "output_type": "stream",
     "text": [
      "Total calibration result: 11387\n"
     ]
    }
   ],
   "source": [
    "from itertools import product\n",
    "\n",
    "\n",
    "def evaluate_expression(numbers, operations):\n",
    "    \"\"\"Evaluate the expression including concatenation left to right.\"\"\"\n",
    "    result = numbers[0]\n",
    "    i = 0\n",
    "    while i < len(operations):\n",
    "        op = operations[i]\n",
    "        if op == \"+\":\n",
    "            result += numbers[i + 1]\n",
    "        elif op == \"*\":\n",
    "            result *= numbers[i + 1]\n",
    "        elif op == \"||\":\n",
    "            # Perform concatenation by converting to strings and back to integer\n",
    "            result = int(str(result) + str(numbers[i + 1]))\n",
    "        i += 1\n",
    "    return result\n",
    "\n",
    "\n",
    "def find_valid_equations(calibration_data):\n",
    "    \"\"\"Find equations that can be made true by inserting operators.\"\"\"\n",
    "    total_calibration_result = 0\n",
    "\n",
    "    for line in calibration_data:\n",
    "        parts = line.split(\":\")\n",
    "        test_value = int(parts[0].strip())\n",
    "        numbers = list(map(int, parts[1].strip().split()))\n",
    "\n",
    "        # Possible operations: +, *, and ||.\n",
    "        operators = [\"+\", \"*\", \"||\"]\n",
    "        possible_operations = product(operators, repeat=len(numbers) - 1)\n",
    "\n",
    "        equation_possible = False\n",
    "        for ops in possible_operations:\n",
    "            if evaluate_expression(numbers, ops) == test_value:\n",
    "                equation_possible = True\n",
    "                break\n",
    "\n",
    "        if equation_possible:\n",
    "            total_calibration_result += test_value\n",
    "\n",
    "    return total_calibration_result\n",
    "\n",
    "\n",
    "# Example input as list of strings\n",
    "calibration_data = [\n",
    "    \"190: 10 19\",\n",
    "    \"3267: 81 40 27\",\n",
    "    \"83: 17 5\",\n",
    "    \"156: 15 6\",\n",
    "    \"7290: 6 8 6 15\",\n",
    "    \"161011: 16 10 13\",\n",
    "    \"192: 17 8 14\",\n",
    "    \"21037: 9 7 18 13\",\n",
    "    \"292: 11 6 16 20\",\n",
    "]\n",
    "\n",
    "result = find_valid_equations(calibration_data)\n",
    "print(\"Total calibration result:\", result)"
   ]
  },
  {
   "cell_type": "code",
   "execution_count": 7,
   "metadata": {},
   "outputs": [
    {
     "name": "stdout",
     "output_type": "stream",
     "text": [
      "Total calibration result: 354060705047464\n"
     ]
    }
   ],
   "source": [
    "result = find_valid_equations(calibration_data)\n",
    "print(\"Total calibration result:\", result)"
   ]
  },
  {
   "cell_type": "code",
   "execution_count": null,
   "metadata": {},
   "outputs": [],
   "source": []
  }
 ],
 "metadata": {
  "kernelspec": {
   "display_name": ".venv",
   "language": "python",
   "name": "python3"
  },
  "language_info": {
   "codemirror_mode": {
    "name": "ipython",
    "version": 3
   },
   "file_extension": ".py",
   "mimetype": "text/x-python",
   "name": "python",
   "nbconvert_exporter": "python",
   "pygments_lexer": "ipython3",
   "version": "3.12.1"
  }
 },
 "nbformat": 4,
 "nbformat_minor": 2
}
