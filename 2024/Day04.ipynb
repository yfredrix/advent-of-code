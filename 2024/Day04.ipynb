{
 "cells": [
  {
   "cell_type": "code",
   "execution_count": 2,
   "metadata": {},
   "outputs": [],
   "source": [
    "with open(\"./data/Day 4/input.txt\", 'r') as file:\n",
    "    grid = file.read().splitlines()"
   ]
  },
  {
   "cell_type": "markdown",
   "metadata": {},
   "source": [
    "# ChatNS"
   ]
  },
  {
   "cell_type": "code",
   "execution_count": 1,
   "metadata": {},
   "outputs": [
    {
     "name": "stdout",
     "output_type": "stream",
     "text": [
      "Total occurrences of the word 'XMAS' in the grid: 18\n"
     ]
    }
   ],
   "source": [
    "def find_word_in_grid(grid, word):\n",
    "    row_count = len(grid)\n",
    "    col_count = len(grid[0])\n",
    "    word_length = len(word)\n",
    "    total_count = 0\n",
    "\n",
    "    # Directions represented as (row_step, col_step)\n",
    "    directions = [\n",
    "        (0, 1),   # horizontal right\n",
    "        (0, -1),  # horizontal left\n",
    "        (1, 0),   # vertical down\n",
    "        (-1, 0),  # vertical up\n",
    "        (1, 1),   # diagonal down-right\n",
    "        (-1, 1),  # diagonal up-right\n",
    "        (1, -1),  # diagonal down-left\n",
    "        (-1, -1)  # diagonal up-left\n",
    "    ]\n",
    "\n",
    "    for row in range(row_count):\n",
    "        for col in range(col_count):\n",
    "            for row_step, col_step in directions:\n",
    "                # Check if word fits in given direction\n",
    "                end_row = row + row_step * (word_length - 1)\n",
    "                end_col = col + col_step * (word_length - 1)\n",
    "                if 0 <= end_row < row_count and 0 <= end_col < col_count:\n",
    "                    found = True\n",
    "                    for i in range(word_length):\n",
    "                        if grid[row + i * row_step][col + i * col_step] != word[i]:\n",
    "                            found = False\n",
    "                            break\n",
    "                    if found:\n",
    "                        total_count += 1\n",
    "\n",
    "    return total_count\n",
    "\n",
    "# Testing with the given grid\n",
    "example_grid = [\n",
    "    \"MMMSXXMASM\",\n",
    "    \"MSAMXMSMSA\",\n",
    "    \"AMXSXMAAMM\",\n",
    "    \"MSAMASMSMX\",\n",
    "    \"XMASAMXAMM\",\n",
    "    \"XXAMMXXAMA\",\n",
    "    \"SMSMSASXSS\",\n",
    "    \"SAXAMASAAA\",\n",
    "    \"MAMMMXMMMM\",\n",
    "    \"MXMXAXMASX\"\n",
    "]\n",
    "\n",
    "word = \"XMAS\"\n",
    "count = find_word_in_grid(example_grid, word)\n",
    "print(f\"Total occurrences of the word '{word}' in the grid: {count}\")"
   ]
  },
  {
   "cell_type": "code",
   "execution_count": 3,
   "metadata": {},
   "outputs": [
    {
     "name": "stdout",
     "output_type": "stream",
     "text": [
      "Total occurrences of the word 'XMAS' in the grid: 2685\n"
     ]
    }
   ],
   "source": [
    "\n",
    "count = find_word_in_grid(grid, word)\n",
    "print(f\"Total occurrences of the word '{word}' in the grid: {count}\")"
   ]
  },
  {
   "cell_type": "code",
   "execution_count": null,
   "metadata": {},
   "outputs": [
    {
     "name": "stdout",
     "output_type": "stream",
     "text": [
      "Total occurrences of the X-MAS pattern in the grid: 9\n"
     ]
    }
   ],
   "source": [
    "### Needed to explain the algoritm approach to GPT4o\n",
    "### Prompt: This approach keeps missing a lot of options could you write the code to check every A if both diagonals have the M or S such that in both diagonals it spells MAS independent if it is top-bottom or bottom-top or a combination of both for each diagonals\n",
    "\n",
    "def find_x_mas_in_grid(grid):\n",
    "    row_count = len(grid)\n",
    "    col_count = len(grid[0])\n",
    "    total_count = 0\n",
    "\n",
    "    for row in range(1, row_count - 1):\n",
    "        for col in range(1, col_count - 1):\n",
    "            if grid[row][col] == 'A':\n",
    "                # Check the diagonal down-right (top-left to bottom-right)\n",
    "                if (grid[row - 1][col - 1] == 'M' and grid[row + 1][col + 1] == 'S') or \\\n",
    "                   (grid[row - 1][col - 1] == 'S' and grid[row + 1][col + 1] == 'M'):\n",
    "                    # Check the opposite diagonal (bottom-left to top-right)\n",
    "                    if (grid[row - 1][col + 1] == 'M' and grid[row + 1][col - 1] == 'S') or \\\n",
    "                       (grid[row - 1][col + 1] == 'S' and grid[row + 1][col - 1] == 'M'):\n",
    "                        total_count += 1\n",
    "\n",
    "    return total_count\n",
    "\n",
    "count = find_x_mas_in_grid(example_grid)\n",
    "print(f\"Total occurrences of the X-MAS pattern in the grid: {count}\")"
   ]
  },
  {
   "cell_type": "code",
   "execution_count": 11,
   "metadata": {},
   "outputs": [
    {
     "name": "stdout",
     "output_type": "stream",
     "text": [
      "Total occurrences of the X-MAS pattern in the grid: 2048\n"
     ]
    }
   ],
   "source": [
    "\n",
    "count = find_x_mas_in_grid(grid)\n",
    "print(f\"Total occurrences of the X-MAS pattern in the grid: {count}\")"
   ]
  },
  {
   "cell_type": "code",
   "execution_count": null,
   "metadata": {},
   "outputs": [],
   "source": []
  }
 ],
 "metadata": {
  "kernelspec": {
   "display_name": ".venv",
   "language": "python",
   "name": "python3"
  },
  "language_info": {
   "codemirror_mode": {
    "name": "ipython",
    "version": 3
   },
   "file_extension": ".py",
   "mimetype": "text/x-python",
   "name": "python",
   "nbconvert_exporter": "python",
   "pygments_lexer": "ipython3",
   "version": "3.12.7"
  }
 },
 "nbformat": 4,
 "nbformat_minor": 2
}
