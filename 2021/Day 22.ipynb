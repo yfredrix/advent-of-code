{
 "cells": [
  {
   "cell_type": "code",
   "execution_count": 3,
   "metadata": {},
   "outputs": [],
   "source": [
    "with open('./data/Day 22/input.txt', 'r') as file:\n",
    "    data = file.read().splitlines()"
   ]
  },
  {
   "cell_type": "code",
   "execution_count": 2,
   "metadata": {},
   "outputs": [
    {
     "name": "stdout",
     "output_type": "stream",
     "text": [
      "Number of cubes that are on: 39\n"
     ]
    }
   ],
   "source": [
    "def parse_step(step):\n",
    "    \"\"\"Parse a reboot step and extract the action and coordinate ranges.\"\"\"\n",
    "    action, ranges = step.split()\n",
    "    ranges = ranges.split(',')\n",
    "    x_range = tuple(map(int, ranges[0][2:].split('..')))\n",
    "    y_range = tuple(map(int, ranges[1][2:].split('..')))\n",
    "    z_range = tuple(map(int, ranges[2][2:].split('..')))\n",
    "    return action, x_range, y_range, z_range\n",
    "\n",
    "def apply_reboot_steps(steps, limit=(-50, 50)):\n",
    "    \"\"\"Apply the reboot steps and count the number of cubes that are on.\"\"\"\n",
    "    cubes_on = set()\n",
    "\n",
    "    for step in steps:\n",
    "        action, x_range, y_range, z_range = parse_step(step)\n",
    "        # Limit the ranges to the specified boundaries\n",
    "        x_start = max(x_range[0], limit[0])\n",
    "        x_end = min(x_range[1], limit[1])\n",
    "        y_start = max(y_range[0], limit[0])\n",
    "        y_end = min(y_range[1], limit[1])\n",
    "        z_start = max(z_range[0], limit[0])\n",
    "        z_end = min(z_range[1], limit[1])\n",
    "\n",
    "        if x_start > x_end or y_start > y_end or z_start > z_end:\n",
    "            continue  # Skip steps that result in an empty range\n",
    "\n",
    "        # Generate all coordinates within the ranges and apply the action\n",
    "        for x in range(x_start, x_end + 1):\n",
    "            for y in range(y_start, y_end + 1):\n",
    "                for z in range(z_start, z_end + 1):\n",
    "                    if action == 'on':\n",
    "                        cubes_on.add((x, y, z))\n",
    "                    elif action == 'off' and (x, y, z) in cubes_on:\n",
    "                        cubes_on.remove((x, y, z))\n",
    "\n",
    "    return len(cubes_on)\n",
    "\n",
    "# Example input steps\n",
    "reboot_steps = [\n",
    "    \"on x=10..12,y=10..12,z=10..12\",\n",
    "    \"on x=11..13,y=11..13,z=11..13\",\n",
    "    \"off x=9..11,y=9..11,z=9..11\",\n",
    "    \"on x=10..10,y=10..10,z=10..10\",\n",
    "    # Add more steps as needed\n",
    "]\n",
    "\n",
    "# Apply the reboot steps and print the number of cubes that are on\n",
    "number_of_cubes_on = apply_reboot_steps(reboot_steps)\n",
    "print(\"Number of cubes that are on:\", number_of_cubes_on)"
   ]
  },
  {
   "cell_type": "code",
   "execution_count": 4,
   "metadata": {},
   "outputs": [
    {
     "name": "stdout",
     "output_type": "stream",
     "text": [
      "Number of cubes that are on: 600458\n"
     ]
    }
   ],
   "source": [
    "number_of_cubes_on = apply_reboot_steps(data)\n",
    "print(\"Number of cubes that are on:\", number_of_cubes_on)"
   ]
  },
  {
   "cell_type": "code",
   "execution_count": 5,
   "metadata": {},
   "outputs": [
    {
     "name": "stdout",
     "output_type": "stream",
     "text": [
      "Number of cubes that are on: 389786\n"
     ]
    }
   ],
   "source": [
    "class Cuboid:\n",
    "    def __init__(self, on, x_range, y_range, z_range):\n",
    "        \"\"\"Initialize a cuboid with its state (on/off) and ranges.\"\"\"\n",
    "        self.on = on\n",
    "        self.x_range = x_range\n",
    "        self.y_range = y_range\n",
    "        self.z_range = z_range\n",
    "\n",
    "    def intersection(self, other):\n",
    "        \"\"\"Find the intersection of two cuboids.\"\"\"\n",
    "        x_inter = (\n",
    "            max(self.x_range[0], other.x_range[0]),\n",
    "            min(self.x_range[1], other.x_range[1]),\n",
    "        )\n",
    "        y_inter = (\n",
    "            max(self.y_range[0], other.y_range[0]),\n",
    "            min(self.y_range[1], other.y_range[1]),\n",
    "        )\n",
    "        z_inter = (\n",
    "            max(self.z_range[0], other.z_range[0]),\n",
    "            min(self.z_range[1], other.z_range[1]),\n",
    "        )\n",
    "\n",
    "        if (\n",
    "            x_inter[0] <= x_inter[1]\n",
    "            and y_inter[0] <= y_inter[1]\n",
    "            and z_inter[0] <= z_inter[1]\n",
    "        ):\n",
    "            return Cuboid(not other.on, x_inter, y_inter, z_inter)\n",
    "        return None\n",
    "\n",
    "    def volume(self):\n",
    "        \"\"\"Calculate the volume of the cuboid.\"\"\"\n",
    "        return (\n",
    "            (self.x_range[1] - self.x_range[0] + 1)\n",
    "            * (self.y_range[1] - self.y_range[0] + 1)\n",
    "            * (self.z_range[1] - self.z_range[0] + 1)\n",
    "        )\n",
    "\n",
    "\n",
    "def apply_reboot_steps(steps):\n",
    "    \"\"\"Apply the reboot steps and calculate the total volume of cubes that are on.\"\"\"\n",
    "    cuboids = []\n",
    "\n",
    "    for step in steps:\n",
    "        action, x_range, y_range, z_range = parse_step(step)\n",
    "        new_cuboid = Cuboid(action == \"on\", x_range, y_range, z_range)\n",
    "        to_add = []\n",
    "\n",
    "        for cuboid in cuboids:\n",
    "            intersection = new_cuboid.intersection(cuboid)\n",
    "            if intersection:\n",
    "                to_add.append(intersection)\n",
    "\n",
    "        if new_cuboid.on:\n",
    "            to_add.append(new_cuboid)\n",
    "\n",
    "        cuboids.extend(to_add)\n",
    "\n",
    "    # Calculate the total volume of cubes that are on\n",
    "    total_volume = 0\n",
    "    for cuboid in cuboids:\n",
    "        multiplier = 1 if cuboid.on else -1\n",
    "        total_volume += multiplier * cuboid.volume()\n",
    "\n",
    "    return total_volume\n",
    "\n",
    "\n",
    "def parse_step(step):\n",
    "    \"\"\"Parse a reboot step and extract the action and coordinate ranges.\"\"\"\n",
    "    action, ranges = step.split()\n",
    "    ranges = ranges.split(\",\")\n",
    "    x_range = tuple(map(int, ranges[0][2:].split(\"..\")))\n",
    "    y_range = tuple(map(int, ranges[1][2:].split(\"..\")))\n",
    "    z_range = tuple(map(int, ranges[2][2:].split(\"..\")))\n",
    "    return action, x_range, y_range, z_range\n",
    "\n",
    "\n",
    "# Example input steps\n",
    "reboot_steps = [\n",
    "    \"on x=-5..47,y=-31..22,z=-19..33\",\n",
    "    \"on x=-44..5,y=-27..21,z=-14..35\",\n",
    "    \"on x=-49..-1,y=-11..42,z=-10..38\",\n",
    "    \"on x=-20..34,y=-40..6,z=-44..1\",\n",
    "    \"off x=26..39,y=40..50,z=-2..11\",\n",
    "    # Add more steps as needed\n",
    "]\n",
    "\n",
    "# Apply the reboot steps and print the number of cubes that are on\n",
    "number_of_cubes_on = apply_reboot_steps(reboot_steps)\n",
    "print(\"Number of cubes that are on:\", number_of_cubes_on)"
   ]
  },
  {
   "cell_type": "code",
   "execution_count": 6,
   "metadata": {},
   "outputs": [
    {
     "name": "stdout",
     "output_type": "stream",
     "text": [
      "Number of cubes that are on: 1334275219162622\n"
     ]
    }
   ],
   "source": [
    "number_of_cubes_on = apply_reboot_steps(data)\n",
    "print(\"Number of cubes that are on:\", number_of_cubes_on)"
   ]
  },
  {
   "cell_type": "code",
   "execution_count": null,
   "metadata": {},
   "outputs": [],
   "source": []
  }
 ],
 "metadata": {
  "kernelspec": {
   "display_name": ".venv",
   "language": "python",
   "name": "python3"
  },
  "language_info": {
   "codemirror_mode": {
    "name": "ipython",
    "version": 3
   },
   "file_extension": ".py",
   "mimetype": "text/x-python",
   "name": "python",
   "nbconvert_exporter": "python",
   "pygments_lexer": "ipython3",
   "version": "3.12.1"
  }
 },
 "nbformat": 4,
 "nbformat_minor": 2
}
