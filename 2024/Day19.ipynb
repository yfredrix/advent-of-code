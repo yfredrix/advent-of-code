{
 "cells": [
  {
   "cell_type": "markdown",
   "metadata": {},
   "source": [
    "## ChatNS"
   ]
  },
  {
   "cell_type": "code",
   "execution_count": 1,
   "metadata": {},
   "outputs": [
    {
     "name": "stdout",
     "output_type": "stream",
     "text": [
      "Number of possible designs: 6\n"
     ]
    }
   ],
   "source": [
    "def can_form_design(available_patterns, design, memo):\n",
    "    if design in memo:\n",
    "        return memo[design]\n",
    "    if design == \"\":\n",
    "        return True\n",
    "\n",
    "    for pattern in available_patterns:\n",
    "        if design.startswith(pattern):\n",
    "            if can_form_design(available_patterns, design[len(pattern):], memo):\n",
    "                memo[design] = True\n",
    "                return True\n",
    "\n",
    "    memo[design] = False\n",
    "    return False\n",
    "\n",
    "def count_possible_designs(available_patterns, designs):\n",
    "    possible_count = 0\n",
    "    memo = {}\n",
    "\n",
    "    for design in designs:\n",
    "        if can_form_design(available_patterns, design, memo):\n",
    "            possible_count += 1\n",
    "\n",
    "    return possible_count\n",
    "\n",
    "# Example input\n",
    "available_patterns = [\"r\", \"wr\", \"b\", \"g\", \"bwu\", \"rb\", \"gb\", \"br\"]\n",
    "designs = [\n",
    "    \"brwrr\",\n",
    "    \"bggr\",\n",
    "    \"gbbr\",\n",
    "    \"rrbgbr\",\n",
    "    \"ubwu\",\n",
    "    \"bwurrg\",\n",
    "    \"brgr\",\n",
    "    \"bbrgwb\"\n",
    "]\n",
    "\n",
    "# Calculate the number of possible designs\n",
    "possible_design_count = count_possible_designs(available_patterns, designs)\n",
    "print(f\"Number of possible designs: {possible_design_count}\")"
   ]
  },
  {
   "cell_type": "code",
   "execution_count": 9,
   "metadata": {},
   "outputs": [
    {
     "name": "stdout",
     "output_type": "stream",
     "text": [
      "Number of possible designs: 355\n"
     ]
    }
   ],
   "source": [
    "with open('./data/Day 19/patterns.txt') as file:\n",
    "    available_patterns = file.read().split(', ')\n",
    "\n",
    "with open('./data/Day 19/designs.txt') as f:\n",
    "    designs = f.read().splitlines()\n",
    "\n",
    "possible_design_count = count_possible_designs(available_patterns, designs)\n",
    "print(f\"Number of possible designs: {possible_design_count}\")"
   ]
  },
  {
   "cell_type": "code",
   "execution_count": 10,
   "metadata": {},
   "outputs": [
    {
     "name": "stdout",
     "output_type": "stream",
     "text": [
      "Total ways for all designs: 732978410442050\n"
     ]
    }
   ],
   "source": [
    "total_options = total_ways_for_all_designs(available_patterns, designs)\n",
    "print(f\"Total ways for all designs: {total_options}\")"
   ]
  },
  {
   "cell_type": "code",
   "execution_count": 8,
   "metadata": {},
   "outputs": [
    {
     "name": "stdout",
     "output_type": "stream",
     "text": [
      "Total number of ways: 16\n"
     ]
    }
   ],
   "source": [
    "def count_ways(available_patterns, design, memo):\n",
    "    if design in memo:\n",
    "        return memo[design]\n",
    "    if design == \"\":\n",
    "        return 1\n",
    "\n",
    "    total_ways = 0\n",
    "\n",
    "    for pattern in available_patterns:\n",
    "        if design.startswith(pattern):\n",
    "            sub_ways = count_ways(available_patterns, design[len(pattern):], memo)\n",
    "            total_ways += sub_ways\n",
    "\n",
    "    memo[design] = total_ways\n",
    "    return total_ways\n",
    "\n",
    "def total_ways_for_all_designs(available_patterns, designs):\n",
    "    total_ways = 0\n",
    "\n",
    "    for design in designs:\n",
    "        memo = {}\n",
    "        design_ways = count_ways(available_patterns, design, memo)\n",
    "        total_ways += design_ways\n",
    "\n",
    "    return total_ways\n",
    "\n",
    "# Example input\n",
    "available_patterns = [\"r\", \"wr\", \"b\", \"g\", \"bwu\", \"rb\", \"gb\", \"br\"]\n",
    "designs = [\n",
    "    \"brwrr\",\n",
    "    \"bggr\",\n",
    "    \"gbbr\",\n",
    "    \"rrbgbr\",\n",
    "    \"ubwu\",\n",
    "    \"bwurrg\",\n",
    "    \"brgr\",\n",
    "    \"bbrgwb\"\n",
    "]\n",
    "\n",
    "# Calculate the total number of ways\n",
    "total_ways_count = total_ways_for_all_designs(available_patterns, designs)\n",
    "print(f\"Total number of ways: {total_ways_count}\")"
   ]
  },
  {
   "cell_type": "markdown",
   "metadata": {},
   "source": [
    "## ChatNS history\n",
    "\n",
    "[\n",
    "  {\n",
    "    \"role\": \"system\",\n",
    "    \"content\": \"You are an code assistant who is awesome at solving advent of code puzzles. You work with python and have about 10 years of experience. In this your very experienced with algoritmes and puzzle solutions. You generate python code which you show in the results\"\n",
    "  },\n",
    "  {\n",
    "    \"content\": [\n",
    "      {\n",
    "        \"type\": \"text\",\n",
    "        \"text\": \"Can you help solve this challenge with me in python? Today, The Historians take you up to the hot springs on Gear Island! Very suspiciously, absolutely nothing goes wrong as they begin their careful search of the vast field of helixes.\\n\\nCould this finally be your chance to visit the onsen next door? Only one way to find out.\\n\\nAfter a brief conversation with the reception staff at the onsen front desk, you discover that you don't have the right kind of money to pay the admission fee. However, before you can leave, the staff get your attention. Apparently, they've heard about how you helped at the hot springs, and they're willing to make a deal: if you can simply help them arrange their towels, they'll let you in for free!\\n\\nEvery towel at this onsen is marked with a pattern of colored stripes. There are only a few patterns, but for any particular pattern, the staff can get you as many towels with that pattern as you need. Each stripe can be white (w), blue (u), black (b), red (r), or green (g). So, a towel with the pattern ggr would have a green stripe, a green stripe, and then a red stripe, in that order. (You can't reverse a pattern by flipping a towel upside-down, as that would cause the onsen logo to face the wrong way.)\\n\\nThe Official Onsen Branding Expert has produced a list of designs - each a long sequence of stripe colors - that they would like to be able to display. You can use any towels you want, but all of the towels' stripes must exactly match the desired design. So, to display the design rgrgr, you could use two rg towels and then an r towel, an rgr towel and then a gr towel, or even a single massive rgrgr towel (assuming such towel patterns were actually available).\\n\\nTo start, collect together all of the available towel patterns and the list of desired designs (your puzzle input). For example:\\n\\nr, wr, b, g, bwu, rb, gb, br\\n\\nbrwrr\\nbggr\\ngbbr\\nrrbgbr\\nubwu\\nbwurrg\\nbrgr\\nbbrgwb\\nThe first line indicates the available towel patterns; in this example, the onsen has unlimited towels with a single red stripe (r), unlimited towels with a white stripe and then a red stripe (wr), and so on.\\n\\nAfter the blank line, the remaining lines each describe a design the onsen would like to be able to display. In this example, the first design (brwrr) indicates that the onsen would like to be able to display a black stripe, a red stripe, a white stripe, and then two red stripes, in that order.\\n\\nNot all designs will be possible with the available towels. In the above example, the designs are possible or impossible as follows:\\n\\nbrwrr can be made with a br towel, then a wr towel, and then finally an r towel.\\nbggr can be made with a b towel, two g towels, and then an r towel.\\ngbbr can be made with a gb towel and then a br towel.\\nrrbgbr can be made with r, rb, g, and br.\\nubwu is impossible.\\nbwurrg can be made with bwu, r, r, and g.\\nbrgr can be made with br, g, and r.\\nbbrgwb is impossible.\\nIn this example, 6 of the eight designs are possible with the available towel patterns.\\n\\nTo get into the onsen as soon as possible, consult your list of towel patterns and desired designs carefully. How many designs are possible?\"\n",
    "      }\n",
    "    ],\n",
    "    \"role\": \"user\"\n",
    "  },\n",
    "  {\n",
    "    \"content\": \"To solve this problem, we can use a recursive approach with memoization to determine if a given design can be constructed using the available towel patterns. The problem is similar to a word break problem where you are trying to determine if a string can be segmented into a sequence of one or more dictionary words.\\n\\nLet's write the Python code for this challenge:\\n\\n```python\\ndef can_form_design(available_patterns, design, memo):\\n    if design in memo:\\n        return memo[design]\\n    if design == \\\"\\\":\\n        return True\\n\\n    for pattern in available_patterns:\\n        if design.startswith(pattern):\\n            if can_form_design(available_patterns, design[len(pattern):], memo):\\n                memo[design] = True\\n                return True\\n\\n    memo[design] = False\\n    return False\\n\\ndef count_possible_designs(available_patterns, designs):\\n    possible_count = 0\\n    memo = {}\\n\\n    for design in designs:\\n        if can_form_design(available_patterns, design, memo):\\n            possible_count += 1\\n\\n    return possible_count\\n\\n# Example input\\navailable_patterns = [\\\"r\\\", \\\"wr\\\", \\\"b\\\", \\\"g\\\", \\\"bwu\\\", \\\"rb\\\", \\\"gb\\\", \\\"br\\\"]\\ndesigns = [\\n    \\\"brwrr\\\",\\n    \\\"bggr\\\",\\n    \\\"gbbr\\\",\\n    \\\"rrbgbr\\\",\\n    \\\"ubwu\\\",\\n    \\\"bwurrg\\\",\\n    \\\"brgr\\\",\\n    \\\"bbrgwb\\\"\\n]\\n\\n# Calculate the number of possible designs\\npossible_design_count = count_possible_designs(available_patterns, designs)\\nprint(f\\\"Number of possible designs: {possible_design_count}\\\")\\n```\\n\\n### Explanation:\\n\\n1. **Recursive Function with Memoization**: `can_form_design` takes the available patterns, a specific design, and a memoization dictionary. It checks if the design can be formed using the available patterns. If the design is already in the memo dictionary, it returns that result. If the design is an empty string, it returns `True`.\\n\\n2. **Checking Each Pattern**: For each available towel pattern, check if the current design starts with that pattern. If it does, recursively check if the rest of the design can be formed.\\n\\n3. **Memoization**: Use a memoization dictionary to store results of subproblems to avoid recalculating them.\\n\\n4. **Count Possible Designs**: The function `count_possible_designs` iterates through each design, using the `can_form_design` function to determine if it can be made from the patterns.\\n\\n5. **Output**: Finally, it prints out the number of designs that can be formed.\\n\\nWith this code, you can determine how many of the desired designs can be formed using the available towel patterns.\",\n",
    "    \"role\": \"assistant\"\n",
    "  },\n",
    "  {\n",
    "    \"content\": [\n",
    "      {\n",
    "        \"type\": \"text\",\n",
    "        \"text\": \"Great job; however the challenge is extended can you help me solve for that?\\nThe staff don't really like some of the towel arrangements you came up with. To avoid an endless cycle of towel rearrangement, maybe you should just give them every possible option.\\n\\nHere are all of the different ways the above example's designs can be made:\\n\\nbrwrr can be made in two different ways: b, r, wr, r or br, wr, r.\\n\\nbggr can only be made with b, g, g, and r.\\n\\ngbbr can be made 4 different ways:\\n\\ng, b, b, r\\ng, b, br\\ngb, b, r\\ngb, br\\nrrbgbr can be made 6 different ways:\\n\\nr, r, b, g, b, r\\nr, r, b, g, br\\nr, r, b, gb, r\\nr, rb, g, b, r\\nr, rb, g, br\\nr, rb, gb, r\\nbwurrg can only be made with bwu, r, r, and g.\\n\\nbrgr can be made in two different ways: b, r, g, r or br, g, r.\\n\\nubwu and bbrgwb are still impossible.\\n\\nAdding up all of the ways the towels in this example could be arranged into the desired designs yields 16 (2 + 1 + 4 + 6 + 1 + 2).\\n\\nThey'll let you into the onsen as soon as you have the list. What do you get if you add up the number of different ways you could make each design?\"\n",
    "      }\n",
    "    ],\n",
    "    \"role\": \"user\"\n",
    "  },\n",
    "  {\n",
    "    \"content\": \"To solve the extended challenge, we need to count all the different ways a design can be constructed from the available towel patterns. This is a combinatorial problem where we need to find all combinations of patterns that can form the given design.\\n\\nWe can approach this problem using dynamic programming (DP) with memoization. The idea is to track the number of ways each prefix of the design can be constructed from the available patterns.\\n\\nLet's implement this solution in Python:\\n\\n```python\\ndef count_ways(available_patterns, design, memo):\\n    if design in memo:\\n        return memo[design]\\n    if design == \\\"\\\":\\n        return 1\\n\\n    total_ways = 0\\n\\n    for pattern in available_patterns:\\n        if design.startswith(pattern):\\n            sub_ways = count_ways(available_patterns, design[len(pattern):], memo)\\n            total_ways += sub_ways\\n\\n    memo[design] = total_ways\\n    return total_ways\\n\\ndef total_ways_for_all_designs(available_patterns, designs):\\n    total_ways = 0\\n\\n    for design in designs:\\n        memo = {}\\n        design_ways = count_ways(available_patterns, design, memo)\\n        total_ways += design_ways\\n\\n    return total_ways\\n\\n# Example input\\navailable_patterns = [\\\"r\\\", \\\"wr\\\", \\\"b\\\", \\\"g\\\", \\\"bwu\\\", \\\"rb\\\", \\\"gb\\\", \\\"br\\\"]\\ndesigns = [\\n    \\\"brwrr\\\",\\n    \\\"bggr\\\",\\n    \\\"gbbr\\\",\\n    \\\"rrbgbr\\\",\\n    \\\"ubwu\\\",\\n    \\\"bwurrg\\\",\\n    \\\"brgr\\\",\\n    \\\"bbrgwb\\\"\\n]\\n\\n# Calculate the total number of ways\\ntotal_ways_count = total_ways_for_all_designs(available_patterns, designs)\\nprint(f\\\"Total number of ways: {total_ways_count}\\\")\\n```\\n\\n### Explanation:\\n\\n1. **Recursive Function with Memoization**: We have a recursive function `count_ways` similar to the previous version but modified to return the count of ways to form the design.\\n\\n2. **Base Case**: If the `design` string is empty, there's exactly one way to achieve this (using no patterns), so return 1.\\n\\n3. **Checking Each Pattern**: For each pattern, check if the design starts with this pattern. If it does, recursively calculate the number of ways to form the rest of the design and add that to the total ways.\\n\\n4. **Memoization**: Use memoization to store results for subproblems to avoid redundant calculations.\\n\\n5. **Calculate Total Ways**: The `total_ways_for_all_designs` function sums up all possible ways to form each design using the available patterns.\\n\\nBy running this code, you can determine the total number of different ways the towels could be arranged into the given designs to get into the onsen.\",\n",
    "    \"role\": \"assistant\"\n",
    "  },\n",
    "  {\n",
    "    \"content\": [\n",
    "      {\n",
    "        \"type\": \"text\",\n",
    "        \"text\": \"Awesome job you solved the puzzle\"\n",
    "      }\n",
    "    ],\n",
    "    \"role\": \"user\"\n",
    "  }\n",
    "]"
   ]
  },
  {
   "cell_type": "code",
   "execution_count": null,
   "metadata": {},
   "outputs": [],
   "source": []
  }
 ],
 "metadata": {
  "kernelspec": {
   "display_name": ".venv",
   "language": "python",
   "name": "python3"
  },
  "language_info": {
   "codemirror_mode": {
    "name": "ipython",
    "version": 3
   },
   "file_extension": ".py",
   "mimetype": "text/x-python",
   "name": "python",
   "nbconvert_exporter": "python",
   "pygments_lexer": "ipython3",
   "version": "3.12.8"
  }
 },
 "nbformat": 4,
 "nbformat_minor": 2
}
